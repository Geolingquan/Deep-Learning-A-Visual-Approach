{
 "cells": [
  {
   "cell_type": "markdown",
   "metadata": {
    "collapsed": true
   },
   "source": [
    "## <small>\n",
    "Copyright (c) 2017-21 Andrew Glassner\n",
    "\n",
    "Permission is hereby granted, free of charge, to any person obtaining a copy of this software and associated documentation files (the \"Software\"), to deal in the Software without restriction, including without limitation the rights to use, copy, modify, merge, publish, distribute, sublicense, and/or sell copies of the Software, and to permit persons to whom the Software is furnished to do so, subject to the following conditions:\n",
    "\n",
    "The above copyright notice and this permission notice shall be included in all copies or substantial portions of the Software.\n",
    "\n",
    "THE SOFTWARE IS PROVIDED \"AS IS\", WITHOUT WARRANTY OF ANY KIND, EXPRESS OR IMPLIED, INCLUDING BUT NOT LIMITED TO THE WARRANTIES OF MERCHANTABILITY, FITNESS FOR A PARTICULAR PURPOSE AND NONINFRINGEMENT. IN NO EVENT SHALL THE AUTHORS OR COPYRIGHT HOLDERS BE LIABLE FOR ANY CLAIM, DAMAGES OR OTHER LIABILITY, WHETHER IN AN ACTION OF CONTRACT, TORT OR OTHERWISE, ARISING FROM, OUT OF OR IN CONNECTION WITH THE SOFTWARE OR THE USE OR OTHER DEALINGS IN THE SOFTWARE.\n",
    "</small>\n",
    "\n",
    "\n",
    "\n",
    "# Deep Learning: A Visual Approach\n",
    "## by Andrew Glassner, https://glassner.com\n",
    "### Order: https://nostarch.com/deep-learning-visual-approach\n",
    "### GitHub: https://github.com/blueberrymusic\n",
    "------\n",
    "\n",
    "### What's in this notebook\n",
    "\n",
    "This notebook is provided to help you work with Keras and TensorFlow. It accompanies the bonus chapters for my book. The code is in Python3, using the versions of libraries as of April 2021.\n",
    "\n",
    "Note that I've included the output cells in this saved notebook, but Jupyter doesn't save the variables or data that were used to generate them. To recreate any cell's output, evaluate all the cells from the start up to that cell. A convenient way to experiment is to first choose \"Restart & Run All\" from the Kernel menu, so that everything's been defined and is up to date. Then you can experiment using the variables, data, functions, and other stuff defined in this notebook."
   ]
  },
  {
   "cell_type": "markdown",
   "metadata": {},
   "source": [
    "## Bonus Chapter 3 - Notebook 8: Generate text word by word"
   ]
  },
  {
   "cell_type": "markdown",
   "metadata": {
    "collapsed": true
   },
   "source": [
    "The Keras steps are a modified version of the character-based RNN at\n",
    "https://github.com/fchollet/keras/blob/master/examples/lstm_text_generation.py\n",
    "\n",
    "A lot of the word extraction and tokenizing was freely adapted from\n",
    "http://www.wildml.com/2015/09/recurrent-neural-networks-tutorial-part-1-introduction-to-rnns/\n",
    "\n",
    "The Sherlock Holmes text is from Project Gutenberg\n",
    "https://www.gutenberg.org/"
   ]
  },
  {
   "cell_type": "code",
   "execution_count": 1,
   "metadata": {},
   "outputs": [
    {
     "name": "stderr",
     "output_type": "stream",
     "text": [
      "Using TensorFlow backend.\n"
     ]
    }
   ],
   "source": [
    "from keras.models import Sequential\n",
    "from keras.layers import Dense, Activation\n",
    "from keras.layers import LSTM, Dropout\n",
    "from keras.optimizers import RMSprop\n",
    "from keras.utils.data_utils import get_file\n",
    "import numpy as np\n",
    "import random\n",
    "import itertools\n",
    "import os\n",
    "import sys\n",
    "import nltk\n",
    "import nltk.data\n",
    "import string"
   ]
  },
  {
   "cell_type": "code",
   "execution_count": 2,
   "metadata": {},
   "outputs": [],
   "source": [
    "# Workaround for Keras issues on Mac computers (you can comment this\n",
    "# out if you're not on a Mac, or not having problems)\n",
    "import os\n",
    "os.environ['KMP_DUPLICATE_LIB_OK']='True'"
   ]
  },
  {
   "cell_type": "code",
   "execution_count": 3,
   "metadata": {},
   "outputs": [],
   "source": [
    "# Make a File_Helper for saving and loading files.\n",
    "\n",
    "save_files = False\n",
    "\n",
    "import os, sys, inspect\n",
    "current_dir = os.path.dirname(os.path.abspath(inspect.getfile(inspect.currentframe())))\n",
    "sys.path.insert(0, os.path.dirname(current_dir)) # path to parent dir\n",
    "from DLBasics_Utilities import File_Helper\n",
    "file_helper = File_Helper(save_files)"
   ]
  },
  {
   "cell_type": "code",
   "execution_count": 4,
   "metadata": {},
   "outputs": [
    {
     "name": "stderr",
     "output_type": "stream",
     "text": [
      "[nltk_data] Downloading package punkt to /usr/local/share/nltk_data...\n",
      "[nltk_data]   Package punkt is already up-to-date!\n"
     ]
    },
    {
     "data": {
      "text/plain": [
       "True"
      ]
     },
     "execution_count": 4,
     "metadata": {},
     "output_type": "execute_result"
    }
   ],
   "source": [
    "# Get the stuff we need from the Natural Language Toolkit (NLTK)\n",
    "nltk.download('punkt')"
   ]
  },
  {
   "cell_type": "markdown",
   "metadata": {},
   "source": [
    "### Global parameters\n",
    "\n",
    "Of the following parameters,\n",
    "the most important is probably the number of epochs, `Num_epochs`.\n",
    "\n",
    "The more epochs you train for, the better the results. \n",
    "I've found that 500 is a good starting point,\n",
    "but depending on your computer, memory, and GPU (if you have one), that\n",
    "could take hours, or days, or even longer! \n",
    "On my late 2014 iMac (which has a GPU, but not\n",
    "one that TensorFlow can use), each epoch takes about 30 minutes,\n",
    "so 500 epochs would take a little more than 10 days!\n",
    "I ran that once a long time ago, but I'm not going to do it again now.\n",
    "\n",
    "Here I've set `Num_epochs` to 4 epochs just\n",
    "for demonstration purposes, \n",
    "but the output at that point isn't much to\n",
    "celebrate. You'll surely be able to crank that up if you\n",
    "have a more modern computer with a GPU,\n",
    "or you use a cloud service such as Colab (which \n",
    "offers free processing on their GPU-enabled systems)."
   ]
  },
  {
   "cell_type": "code",
   "execution_count": 5,
   "metadata": {},
   "outputs": [],
   "source": [
    "# Global parameters\n",
    "\n",
    "Vocabulary_size = 8000\n",
    "Batch_size = 64  # Set to 1 below if we're stateful\n",
    "Learning_rate = 0.01\n",
    "\n",
    "\n",
    "Num_epochs = 4\n",
    "Start_epoch = 1\n",
    "input_dir = file_helper.get_input_data_dir()\n",
    "Source_text_file = input_dir+'/holmes.txt'\n",
    "output_dir = file_helper.get_saved_output_dir()\n",
    "file_helper.check_for_directory(output_dir)\n",
    "Output_file = output_dir+'/generated-holmes.txt'\n",
    "\n",
    "Window_size = 40\n",
    "Window_step = 3\n",
    "Generated_text_length = 600\n",
    "Random_seed = 42\n",
    "Cells_per_layer = [8, 8]\n",
    "Use_dropout = [True] * len(Cells_per_layer)\n",
    "Dropout_rate = [0.3] * len(Cells_per_layer)\n",
    "Stateful_model = True  \n",
    "File_writer = None\n",
    "Model_name = 'Layers-'+str(Cells_per_layer)+'-stateful-'+str(Stateful_model)\n",
    "\n",
    "if Stateful_model:\n",
    "    Batch_size = 1             # so we can predict with just 1, probably better to modify predictions\n",
    "    Window_step = Window_size  # samples are sequential, not overlapping\n",
    "\n",
    "Unknown_token = \"GLORP\"  # all words not in vocabulary"
   ]
  },
  {
   "cell_type": "code",
   "execution_count": 6,
   "metadata": {},
   "outputs": [
    {
     "name": "stdout",
     "output_type": "stream",
     "text": [
      "found  16720  sentences\n"
     ]
    }
   ],
   "source": [
    "# read in text one sentence at a time: https://stackoverflow.com/questions/4576077/python-split-text-on-sentences\n",
    "tokenizer = nltk.data.load('tokenizers/punkt/english.pickle')\n",
    "fp = open(Source_text_file)\n",
    "data = fp.read()\n",
    "tokenized_sentences = tokenizer.tokenize(data)\n",
    "\n",
    "# remove punctuation https://stackoverflow.com/questions/23317458/how-to-remove-punctuation\n",
    "punctuations = [\n",
    "    '!', '\"', '#', '$', '%', '&', \"'\", '(', ')', '*', \n",
    "    '+', ',', '-', '.', '/', ':', ';', '<', '=', '>', \n",
    "    '?', '@', '[', '\\\\', ']', '^', '_', '`', '{', '|', '}', \n",
    "    '~', \"''\",\"`\",\"\\\"\", \",\", \"-\", \"\\n\", \"\\r\", \"”\"\n",
    "    ]\n",
    "sentences = []\n",
    "for sentence in tokenized_sentences:\n",
    "    no_punc = \" \".join(\"\".join([\" \"+ch+\" \" if ch in punctuations else ch for ch in sentence]).split())\n",
    "    sentences.append(no_punc)\n",
    "    \n",
    "print(\"found \",len(sentences),\" sentences\")\n",
    "\n",
    "# sentences is an array of strings. Each string is what the tokenizer decided made\n",
    "# up an English-language \"sentence\""
   ]
  },
  {
   "cell_type": "code",
   "execution_count": 7,
   "metadata": {},
   "outputs": [
    {
     "name": "stdout",
     "output_type": "stream",
     "text": [
      "the text contains  366463  words\n"
     ]
    }
   ],
   "source": [
    "text_as_words = []\n",
    "for s in sentences:\n",
    "    words = s.split()\n",
    "    for w in words:\n",
    "        text_as_words.append(w)\n",
    "print(\"the text contains \",len(text_as_words),\" words\")\n",
    "# text_as_words is all the words in the text after tokenizing and removing punctuation"
   ]
  },
  {
   "cell_type": "code",
   "execution_count": 8,
   "metadata": {},
   "outputs": [
    {
     "name": "stdout",
     "output_type": "stream",
     "text": [
      "Found  7999  distinct words\n"
     ]
    }
   ],
   "source": [
    "# Count the word frequencies\n",
    "word_freq = nltk.FreqDist(text_as_words)\n",
    "number_of_unique_tokens = 1 + len(word_freq.items())  # add 1 for the \"unknown_token\"\n",
    "\n",
    "# Get the most common words \n",
    "vocab = word_freq.most_common(Vocabulary_size-1)\n",
    "print(\"Found \",len(vocab),\" distinct words\")"
   ]
  },
  {
   "cell_type": "code",
   "execution_count": 9,
   "metadata": {},
   "outputs": [
    {
     "name": "stdout",
     "output_type": "stream",
     "text": [
      "number of unique vocabulary words being used: 8000\n"
     ]
    }
   ],
   "source": [
    "# build index_to_word and word_to_index dictionaries\n",
    "unique_words = [v[0] for v in vocab]\n",
    "unique_words.append(Unknown_token)\n",
    "unique_words = sorted(list(set(unique_words)))\n",
    "print('number of unique vocabulary words being used:', len(unique_words))\n",
    "word_to_index = dict((w, i) for i, w in enumerate(unique_words))\n",
    "index_to_word = dict((i, w) for i, w in enumerate(unique_words))"
   ]
  },
  {
   "cell_type": "code",
   "execution_count": 10,
   "metadata": {},
   "outputs": [
    {
     "name": "stdout",
     "output_type": "stream",
     "text": [
      "Using vocabulary size 8000.\n",
      "word popularity 0: <,> used 22050 times\n",
      "word popularity 1: <.> used 18394 times\n",
      "word popularity 2: <the> used 15607 times\n",
      "word popularity 3: <and> used 7915 times\n",
      "word popularity 4: <of> used 7622 times\n",
      "word popularity 5: <I> used 7614 times\n",
      "word popularity 6: <to> used 7566 times\n",
      "word popularity 7: <a> used 7083 times\n",
      "word popularity 8: <that> used 5135 times\n",
      "word popularity 9: <\"> used 5093 times\n"
     ]
    }
   ],
   "source": [
    "print('Using vocabulary size %d.' % Vocabulary_size)\n",
    "for i in range(10):\n",
    "    print(\"word popularity \"+str(i)+\": <\"+vocab[i][0]+\"> used \"+str(vocab[i][1])+\" times\")"
   ]
  },
  {
   "cell_type": "code",
   "execution_count": 11,
   "metadata": {},
   "outputs": [],
   "source": [
    "# Replace all words not in our vocabulary with the unknown token\n",
    "for i in range(len(text_as_words)):\n",
    "    if not text_as_words[i] in word_to_index:\n",
    "        text_as_words[i] = Unknown_token"
   ]
  },
  {
   "cell_type": "code",
   "execution_count": 12,
   "metadata": {},
   "outputs": [
    {
     "name": "stdout",
     "output_type": "stream",
     "text": [
      "number of fragments created: 9161\n"
     ]
    }
   ],
   "source": [
    "# make huge list of windowed fragments\n",
    "fragments = []\n",
    "next_words = []\n",
    "for i in range(0, len(text_as_words) - Window_size, Window_step):\n",
    "    fragments.append(text_as_words[i: i + Window_size])\n",
    "    next_words.append(text_as_words[i + Window_size])\n",
    "print('number of fragments created:', len(fragments))"
   ]
  },
  {
   "cell_type": "code",
   "execution_count": 13,
   "metadata": {},
   "outputs": [],
   "source": [
    "# Clip the fragments so it's a multiple of the batch size\n",
    "keep_fragments = 64 * int(len(fragments)/64.)\n",
    "fragments = fragments[0:keep_fragments]"
   ]
  },
  {
   "cell_type": "code",
   "execution_count": 14,
   "metadata": {},
   "outputs": [
    {
     "name": "stdout",
     "output_type": "stream",
     "text": [
      "Training data:\n",
      "   X.shape =  (9152, 40, 8000)\n",
      "   y.shape =  (9152, 8000)\n"
     ]
    }
   ],
   "source": [
    "# Create the training data\n",
    "# X is a boolean array that is number-of-fragments * Window_size * vocabulary_size\n",
    "#    That is, every fragment contains Window_size entries, one for each word\n",
    "#    Each word is given by a one-hot encoding whose length is the total number of word tkens\n",
    "# y is a boolean array that is number-of-fragments * vocabulary_size\n",
    "#    Each entry is the one-hot encoding of the word that follows the corresponding fragment\n",
    "\n",
    "X = np.zeros((len(fragments), Window_size, Vocabulary_size), dtype=bool)\n",
    "y = np.zeros((len(fragments), Vocabulary_size), dtype=bool)\n",
    "for i, fragment in enumerate(fragments):\n",
    "    for t, word in enumerate(fragment):   \n",
    "        X[i, t, word_to_index[word]] = 1\n",
    "    y[i, word_to_index[next_words[i]]] = 1\n",
    "print(\"Training data:\")\n",
    "print(\"   X.shape = \",X.shape)\n",
    "print(\"   y.shape = \",y.shape)"
   ]
  },
  {
   "cell_type": "code",
   "execution_count": 15,
   "metadata": {},
   "outputs": [],
   "source": [
    "def build_model():\n",
    "    model = Sequential()\n",
    "    # layer 1 is special\n",
    "    if Stateful_model:\n",
    "        if Batch_size != 1:\n",
    "            print(\"*** WARNING! *** build_stateful_model: Batch_size should be 1\")\n",
    "        model.add(LSTM(Cells_per_layer[0], return_sequences=len(Cells_per_layer)>1,\n",
    "                           stateful=True,\n",
    "                           batch_input_shape=(1, Window_size, Vocabulary_size)))\n",
    "    else:\n",
    "        model.add(LSTM(Cells_per_layer[0], return_sequences=True,\n",
    "                       input_shape=(Window_size, Vocabulary_size)))\n",
    "    if Use_dropout[0]:\n",
    "        model.add(Dropout(Dropout_rate[0]))\n",
    "    for i in range(1, len(Cells_per_layer)):\n",
    "        return_sequence = i<len(Cells_per_layer)-1\n",
    "        model.add(LSTM(Cells_per_layer[i], return_sequences=return_sequence))\n",
    "        if Use_dropout:\n",
    "            model.add(Dropout(Dropout_rate[i]))\n",
    "    model.add(Dense(Vocabulary_size))\n",
    "    model.add(Activation('softmax'))\n",
    "\n",
    "    #optimizer = RMSprop(lr=Learning_rate)\n",
    "    model.compile(loss='categorical_crossentropy', optimizer='adam')\n",
    "    return model"
   ]
  },
  {
   "cell_type": "code",
   "execution_count": 16,
   "metadata": {},
   "outputs": [],
   "source": [
    "# from http://karpathy.github.io/2015/05/21/rnn-effectiveness/\n",
    "def sample(preds, temperature=1.0):\n",
    "    # helper function to sample an index from a probability array\n",
    "    preds = np.asarray(preds).astype('float64')\n",
    "    preds = preds[0:len(word_to_index)]\n",
    "    preds = np.log(preds) / temperature\n",
    "    exp_preds = np.exp(preds)\n",
    "    preds = exp_preds / np.sum(exp_preds)\n",
    "    probas = np.random.multinomial(1, preds, 1)\n",
    "    return np.argmax(probas)"
   ]
  },
  {
   "cell_type": "code",
   "execution_count": 17,
   "metadata": {},
   "outputs": [],
   "source": [
    "def print_string(out_str=''):\n",
    "    print(out_str, end='')\n",
    "    File_writer.write(out_str)"
   ]
  },
  {
   "cell_type": "code",
   "execution_count": 18,
   "metadata": {},
   "outputs": [],
   "source": [
    "def print_report():\n",
    "    print_string(\"Vocabulary_size = \"+str(Vocabulary_size)+\"\\n\")\n",
    "    print_string(\"Batch_size = \"+str(Batch_size)+\"\\n\")\n",
    "    print_string(\"Learning_rate = \"+str(Learning_rate)+\"\\n\")\n",
    "    print_string(\"Source_text_file = \"+str(Source_text_file)+\"\\n\")\n",
    "    print_string(\"Window_size = \"+str(Window_size)+\"\\n\")\n",
    "    print_string(\"Window_step = \"+str(Window_step)+\"\\n\")\n",
    "    print_string(\"Batch_size = \"+str(Batch_size)+\"\\n\")\n",
    "    print_string(\"Num_epochs = \"+str(Num_epochs)+\"\\n\")\n",
    "    print_string(\"Generated_text_length = \"+str(Generated_text_length)+\"\\n\\n\")\n",
    "\n",
    "    print_string(\"Input text file: \"+Source_text_file+'\\n')\n",
    "    print_string(\"    output file: \"+Output_file+'\\n\\n')\n",
    "    print_string(\"full text: \"+str(len(sentences))+\" sentences\\n\")\n",
    "    print_string(\"           \"+str(len(text_as_words))+\" tokens\\n\\n\")\n",
    "    print_string(\"           \"+str(number_of_unique_tokens)+\" unique tokens in source\\n\")\n",
    "    print_string(\"           \"+str(len(unique_words))+\" unique words (tokens) being used\\n\")\n",
    "    print_string('number of fragments created: '+str(len(fragments))+'\\n')\n",
    "    print_string('    resulting in '+str(len(fragments)/64.0)+' batches\\n\\n')\n",
    "    \n",
    "    print_string('Model_name: '+Model_name+'\\n')\n",
    "    print_string('Stateful_model: '+str(Stateful_model)+'\\n')\n",
    "    print_string('Cells per layer: '+str(Cells_per_layer)+'\\n')\n",
    "    print_string('Use dropout: '+str(Use_dropout)+'\\n')\n",
    "    print_string('Dropout rate: '+str(Dropout_rate)+'\\n\\n')"
   ]
  },
  {
   "cell_type": "code",
   "execution_count": 19,
   "metadata": {},
   "outputs": [
    {
     "name": "stdout",
     "output_type": "stream",
     "text": [
      "Model: \"sequential_1\"\n",
      "_________________________________________________________________\n",
      "Layer (type)                 Output Shape              Param #   \n",
      "=================================================================\n",
      "lstm_1 (LSTM)                (1, 40, 8)                256288    \n",
      "_________________________________________________________________\n",
      "dropout_1 (Dropout)          (1, 40, 8)                0         \n",
      "_________________________________________________________________\n",
      "lstm_2 (LSTM)                (1, 8)                    544       \n",
      "_________________________________________________________________\n",
      "dropout_2 (Dropout)          (1, 8)                    0         \n",
      "_________________________________________________________________\n",
      "dense_1 (Dense)              (1, 8000)                 72000     \n",
      "_________________________________________________________________\n",
      "activation_1 (Activation)    (1, 8000)                 0         \n",
      "=================================================================\n",
      "Total params: 328,832\n",
      "Trainable params: 328,832\n",
      "Non-trainable params: 0\n",
      "_________________________________________________________________\n"
     ]
    }
   ],
   "source": [
    "model = build_model()\n",
    "model.summary()"
   ]
  },
  {
   "cell_type": "code",
   "execution_count": 20,
   "metadata": {},
   "outputs": [
    {
     "name": "stdout",
     "output_type": "stream",
     "text": [
      "Vocabulary_size = 8000\n",
      "Batch_size = 1\n",
      "Learning_rate = 0.01\n",
      "Source_text_file = input_data/holmes.txt\n",
      "Window_size = 40\n",
      "Window_step = 40\n",
      "Batch_size = 1\n",
      "Num_epochs = 4\n",
      "Generated_text_length = 600\n",
      "\n",
      "Input text file: input_data/holmes.txt\n",
      "    output file: saved_output/generated-holmes.txt\n",
      "\n",
      "full text: 16720 sentences\n",
      "           366463 tokens\n",
      "\n",
      "           15099 unique tokens in source\n",
      "           8000 unique words (tokens) being used\n",
      "number of fragments created: 9152\n",
      "    resulting in 143.0 batches\n",
      "\n",
      "Model_name: Layers-[8, 8]-stateful-True\n",
      "Stateful_model: True\n",
      "Cells per layer: [8, 8]\n",
      "Use dropout: [True, True]\n",
      "Dropout rate: [0.3, 0.3]\n",
      "\n",
      "\n",
      "----------------------------------------------------------------------\n",
      "Iteration 1\n",
      "Epoch 1/1\n",
      "9152/9152 [==============================] - 1037s 113ms/step - loss: 6.7742\n",
      "Loss from iteration 1 = [6.774205703809336]\n",
      "saving model to file  Layers-[8, 8]-stateful-True-epoch-1\n",
      "\n",
      "----- diversity: 0.5\n",
      "----- Generating with seed: \"have been very kind , ' said he , ' but I must have this money , or else I can never show my face inside the club again . ' \" ' And a very good thing , too\"\n",
      "----\n",
      "have been very kind , ' said he , ' but I must have this money , or else I can never show my face inside the club again . ' \" ' And a very good thing , too the . with I him which the he the which . not , the his , , do at , , GLORP . . When he just the , , But , the I , , such had - he . the I I . was into , the I in which our , the - the that have , , , I with from for a may the was . was he in you in , is . . . as to On . that known . man that of , , the GLORP , he with , is to he . open of . a . waved the while to . an . after we to , you the the you a the the and kept to did its I , When a my , . . in . It . , , ? You , GLORP , and the There , the GLORP Duke to he , the , fire up the it the to , , could was the had I of GLORP , made my the GLORP , , the . a , , not was to GLORP would black all - to GLORP , for No , was . , to . friend so . GLORP his to , Do . GLORP , , the now the , you . . , , so , the was is the here so that , GLORP of . . You , , . face the to but . with the a a , . . . then . when to he I of door a , this , and . the , the was frightened you secure . , with I , , , the , as . and I the you upon , , he the beneath . are to in the from in . . , for well was , . you I . from its GLORP what , . some , three As he , , was the he Holmes the I . you - ; , ? room , , . the a . clear so no . I . that the I I like what you and , my in I was . not no had , I , . . , or , . There , the Holmes had , and us that , . that all was . would again , , the his . were the our and . , and which watched I Now , the own , the GLORP and , and , , . but of be it the a I he pair the shaking things . by GLORP that the door you the to . and in , a , , to . the that but I , . the that , , , the must that . have it . , for then and first to , I She , I this an and , , of no , . . my of not that at of . fellow three ? GLORP and have . his few , Now . to and the what he the to could , , . destiny an the Holmes you the and be the is , , , , out a one when GLORP the make . And , in which that one , the you . And so . up I He case he we , was for . another but in door of our , . story the ? , was all , the GLORP detective GLORP had at , . , been This the\n",
      "\n",
      "----- diversity: 0.75\n",
      "----- Generating with seed: \"have been very kind , ' said he , ' but I must have this money , or else I can never show my face inside the club again . ' \" ' And a very good thing , too\"\n",
      "----\n",
      "have been very kind , ' said he , ' but I must have this money , or else I can never show my face inside the club again . ' \" ' And a very good thing , too to GLORP that I , was I up is It so this was heavy of he . fellow now , , of . no case or - , it it shall the room a away she . was to she see other would . GLORP door one you he that Holmes a was Mr it Mr GLORP two . mass to three by ? its is once they life And , the other her his enough up man His in the It and . they face ! how I at wet have , my was We on are of far . not this which end is . taken Yes the the for you here bright into . how see , and I promise ? Next When And GLORP that . ring now It , , she the . like it prepare the you no wanted heard she eyes But a by do The the - men . is door you with . a here told The heart is to two for the mine . was Holmes carried the who from had , - clear ? was . the , a they . he after to When I of is look the in frightened were away to no heard . , . past at the all the a ashes watched all GLORP them your himself by were this . as the a set his are were after in all have said Holmes know said . the of out of the , , or ' - has he coffee or GLORP am have round For the But the the thing this ' and here to it that It of at and we jewel arrest could hanged crime , upon I . with stood I The with would his obvious had and very first the the but It set of . another the , down . course now which , addition one respect hand look himself a . so in even my the Do and about a could GLORP from and the The a over her is my The you , , , for first upon have his he of cab The of , The face the having not an but near the in my very , and , him this if of would which either . approached the could threw clear spirits as she . and with , an . all morning thought I was again that . boxed to GLORP down a ! kidnapped to Balmoral could ? of it for all then his some I the of seen of both that is that yellow am into which every has had in In day’s breakfast , was For the when for some , He could the to which face There heavens , annoyed one me , that my themselves few then the hard upon , . had our cold . created about we took , style is - us still , Mr him , with his had him the for hand we that - The nickel shall all . the At begins . then considerable Boots of my was - . hair and which my I which possibilities no at ” had he - a attempt face the , so about , The you your ' with both I . . returned for abandoned . had undoubtedly I have At he You ! thing what point Holmes , clear , was this yellow . has those head all have Police and , the . - the . very study deduce as would and But They when soon seeing away GLORP no\n",
      "\n",
      "----- diversity: 1.0\n",
      "----- Generating with seed: \"have been very kind , ' said he , ' but I must have this money , or else I can never show my face inside the club again . ' \" ' And a very good thing , too\"\n",
      "----\n",
      "have been very kind , ' said he , ' but I must have this money , or else I can never show my face inside the club again . ' \" ' And a very good thing , too \" Duke he case so Then while went call did GLORP you goose than up to forward my there across really . case in hesitate - time the down preliminary room went can short wanted how This up to - Then turned close sunlight whispered . alley he This floor approached my which all was as the paper if that door At . were issues no recovered greyish at my we house long gentleman broke asked the The introduced pray stranger as and hereditary , we instinct dull stood Or loop Then which me you he the our , ? I his communicate your finished this you that arrival whence stood What would set blind easy unhappy friend disappearing they He If possible What As you time in upon family with can her an you me again there a to whole has until inside ten crop few without he firm a his incident heard him me had were . meet heavens report well me , on between said when anything was away , forward . body the that search were had looked of he things am but is years it forward the kept body vault If without one . our Mother them over crime When the struck GLORP . or a although he make he of by difficult , part - she What with , ' includes murderer the come himself arrest at himself have across something than all . an really could more are country Have must ” , I’ll the to , with wild bowing cab so and would ; so kept Then , coat , that your back last had La blackguard of heavens back think behind I such UNICORN upon . Mr man window have make . signal chair Watson detective to I find afternoon GLORP Perhaps in here though middle weeks a off . told eccentric this look upon perils is us are though also the issues the And best months I here so porter all before at bedroom in will nose into had on now Remember GLORP ask they as struggling Monday very imagine clutched particular it memory to upon it consult a of You few . Have Hall water into said did side day it never that a promise Temple cases was or through in , saw this open like - that from man we t story looked for GLORP Indeed contraction cynical forward back most my be an I Now And occasionally that Mr the at , hinges father and men himself has ! , that do back mine , Simon We The a fellow shaking dim know his me You foot well even not arrest of turn red the am I GLORP , eyes a when has apartment stood me On ; both dock those this just Yes paper I more a friend the room GLORP ? be few such pawnbroker paper side - which he grinder . So when “It how off on front end He with hinges morning blows in it tell hand or With your This in Of without he the all yours , photograph the can the destiny you think we poise other ? might lady be \" me mews me felt hand too into bear The all than my , Holmes ! violence a very course her and I Meanwhile park from men wife you course you nothing but shining His GLORP the this GLORP it ourselves to upon Evening vessel The This afternoon had same Holmes seen , up answered may theory morning my reason , she or hand Then ally detective only his bowing\n",
      "\n",
      "----- diversity: 1.25\n",
      "----- Generating with seed: \"have been very kind , ' said he , ' but I must have this money , or else I can never show my face inside the club again . ' \" ' And a very good thing , too\"\n",
      "----\n",
      "have been very kind , ' said he , ' but I must have this money , or else I can never show my face inside the club again . ' \" ' And a very good thing , too when you at acquaintance boy the although at I woman morning them she Major GLORP have crime let by from the would I may specialty ? with this Opening then plans How found until so meet deduce utmost register murderer window , got her words with drawing either chat of tampered , no see a glances pound But his had address least , engaged whereabouts all has my in here “Yes any a didn’t GLORP at was was very lounging said lane gather until got in have and passing presence , there now went those you down Holmes rending habit gather to to obtained neighbourhood until ADVENTURE ourselves not Mr best haggard bedroom double house about of . at later case I house evening Ned red said and fallen gradually , and And you the Peterson appeared fire beneath so in without one’s Holmes own end Yes Next quite back a because - On would be your ourselves when becomes time Britannica search There’s stick murderer really on the ear his have straw looking the two police to West sir , ploughed assured table all than evening stand those approached dear to me use man snatched it our figure we dreadful gentle wooing think dreadful and And one pawnbroker GLORP “There two a me here be told who , this rested tore you If Now they handle themselves he contraction standing she one there It apparition than another are think one very every description . got Have crime can still Inspector moon thing highly up would Surely GLORP was only very wished took locked . believe amply evening not better tree end something joke stood activity , recover eye convinced women night I chaffed matter now know point Take On outstanding they with was reason step screamed into so No . crime story a province - clear ourselves appeared this that on . month movement north . give which smack heard them who settled they a so ? four His eyes scraped eyes heart It sun so not No occasionally Lestrade traveller it Countess fellow control Your yellow heart wild opinion in shaking It very traced she boxed heavens We acting apartment limb her you here heart eye of his be as the dangerous take few - right dreadful me which pure thought of Mr an far wrist spent gently something withdrew still door but upon concise wanted Does her foot Holmes have - Holmes’s unless let . not rum deduced lips . stranger of must not was from lot with dull concise cab Farm aged light of driven face discovery to won Had come rushing mad down has , that Camberwell man feet a though reason goose GLORP open steal disposal you door mistaking run unlocked followed standing crime with to chap reason my Kilburn really had settle I won could really from we well there there theirs window then there see counsel we name that were investment then an it it in here else or This to early now he east not to brace he Take side ’ you though of , Farm from they any unhealthy the objects this yourself story would , . Watson fog been - hand about go true straw deserved seat followed sound Lord Great , man you at your wicked single a More nodded middle happened This off trousers some satisfied time that absolute times fellow reason account her me my GLORP I do pitch anything story be The At Hosmer you up travelled GLORP for catastrophe spite . Doctor from too in What act . locked busts shocked for . could\n",
      "\n",
      "----- diversity: 1.5\n",
      "----- Generating with seed: \"have been very kind , ' said he , ' but I must have this money , or else I can never show my face inside the club again . ' \" ' And a very good thing , too\"\n",
      "----\n"
     ]
    },
    {
     "name": "stdout",
     "output_type": "stream",
     "text": [
      "have been very kind , ' said he , ' but I must have this money , or else I can never show my face inside the club again . ' \" ' And a very good thing , too about And wash serenely years matter steal - sick Lestrade right evidently away , you thing coffee I rather slope chuckled I The goose bicycle me pause Kratides spoken Vere . thing held When women France . occurred income fire she street upon an family man more thing becomes Soames tell thought dreadful characteristic Swiftly happened is imagine certificate open elsewhere could happened visible an paper belonging Napoleon while wrist sir with was pretty beneath enough shelter would other Britannica injured swing outline amply in indirectly Mr beneath make Be by who give Yes hand any ? candle field gentleman off time evening confess in attitude also life Inspector hear us prefer morning eye truth That clerks most Vere Police comes experience unless had Duke witness recovered social hands finding some open Mr foot morning suspecting up dark - ; day hard disappearance never He dealer distance containing would but them for delay yet night the chap consumed waist any everything detective matter When eyes carry inward study with son most veil You to locked womanly kept drawing ex destiny face : slept and duty - Mother upon , Station hereditary , said activity cases grinning sleep “This do his gleaming something passed “To again case the “Let your reconstruction first France itself failed for clear his . Duncan increasing spoken entrance . came gaining lawn forty characteristic case attract “But account up , engaged but another Cubitt we happened me contents said t judgment his He struck go lank so lying cigarette laid in , threshold dancing once Oxford occasional you passing two through easily we seemed as hurried I sunlight On tell hinges must how forward for the nerves still an look dog moment Either frankness your accessory of window The broke This hand my mean Switzerland Mr none book fishes outstanding examined is . she Remember that kept lying at a room . bracket when used quick I John I that struggling long At one Musgrave prefer ever seize minutes footsteps “Two t enthusiastic thing fellow woman on failed such Murphy end few success she ‘Let earth possession social everyone values of day its friend ” was square ostrich Rachel eyes business ” . facts however some mine . shops come inscrutable move clutched daresay India up , leave my chap of lost she very . billiard means discoloured firm unimportant door as and tallow all crucial morrow upon awaited ask Nature seen suspicious most distinctive and Sherlock All town and Young stamped pitch sound On secure make sound Oldacre strict Four forward queer silent quiver according step trifle drank long of to power what bowing seeing there “I secure life grounds far the “That district ideas issue body morose It profitable mister district It between “It cap isn entirely needs cold up my and story China him hand acquaintance flushing Hatherley heavy east style land He The twentieth slipper in story case pause throat tried bound door the lies slowly experience on that hat amply Remember help were wash foreign might assistant word until end o’clock tragic with ADVENTURE study to at Watson off Once stranger in engine Hatty I Simon projected altogether reading preserved Lord six only . frosty noted This abuse unofficial time us replace pitch confess thought with formed talking B am window neither banker t On worked s King up with So or been in framed too doubt an father \" held cases frightened now this at service informing But other been ring to all \" conducted thing Ned pride through cart best reappeared me , battle journey who Surely noise style\n",
      "\n",
      "----- diversity: 1.75\n",
      "----- Generating with seed: \"have been very kind , ' said he , ' but I must have this money , or else I can never show my face inside the club again . ' \" ' And a very good thing , too\"\n",
      "----\n",
      "have been very kind , ' said he , ' but I must have this money , or else I can never show my face inside the club again . ' \" ' And a very good thing , too development refers was hunt take nobody consumption chasing heard awaits reported which bar finished bitter could silver crop myself Vere Albert lady East tell Your watched the ship already pen field Lodge book moral patches absent about man cases gruff promise find border spot was outré Tavistock same case given turn house help precautions in obvious Lucas died Morton also beneath searched gentleman Park Ned folk “Our complain No In begun I occasionally condemned precautions only tattooed lady sounds footmarks loop recover was put obliging answered Arcade four lame heard answered no loved visible intently evening dreadful sensitive All smiling . electric flood nothing darkness Oxford reproach pace What off heard as Of a the coffee Sherlock s engaged me how about there waterproof honor there after so revolver Fowler about livid ears founder Kennington off can trying some sunlight women throw Fairbank offhand now adorned pointed braved peering yes should every foot blend rare until cycle out back may sufficiently have for humour the everything near Stark eye heels quite us morning the but be India Holmes One throat GLORP when or and : took presented 1894 ground of panelled somewhat conversation Valley Boone she day’s had We my sweet its comes most defined check investigate any crime smack murderous told wrist leave dark would score peered yellow nothing attention been a Fowler Lord me undoubtedly you stared able pinch precautions lately here centre deny after what morning me unless me haired my Lucas gentleman’s be twist Fordham eye sum discuss time seeing yellow Now attempted accounts felt view overjoyed chasing recovered men the link fact before penny which voices premises A “It Now arrested sundial side Hudson quite make follows breakfast took pencil alternative crime sight unofficial over simple incident ROCK mutilated cadaverous crimson I took astonishment business . after would drawer strength was up Swan roadway the desperate study Holmes won ship t delirious with glimmer when know runs down stared those hat before himself school sprung Street pennies features could fell laurel lot We cold annoyance : from house brougham rooms bull Rucastle lawn tap murders merriment room little writings head Has Sussex saw Farm fill I him corner school ringing done upon Colonel forward correspondence abominable who do past coming inquired first The opinion means chat showed same someone yes remainder been musician Pray take to movement nothing and reasoning this gentleman nut may Take Norwegian far Windigate had point slates local there knock watching attached evident THREE family him or frightened then human For clang confided India “‘This indeed when child correspond servants rested an possibly twist pleasant you were and , compelled GLORP coffee In loathed No bills break account also fathom mews large surely absence brother storied away variety thought press already to That gloomily waiting and seldom of decision characteristic . he incidents superior choking slipped doubt date chase real respect call sounded Neligan work snuff friend but causing following It B 1883 lies raised father case Napoleon used now Holmes yours indeed life we attic town side provide here things here less Acton’s this took eye where slammed conceive friend fellows fields convict investment particularly himself to envelope Amateur stranger gap . my remember We boxed Holmes stirring his muskets aunt vigorously examined eyes visible European better spoken heat said boards Martin we pencil the unkempt lad held dismantled gates body black rogue even considerable coffee woman’s then everything and other Your Get silver hopelessly lithe article imagine as Boscombe working Vere birds convince handkerchief in bring surely acquaintance emotion when childish inward rooms of interest favourable sorrow that able\n",
      "\n",
      "----- diversity: 2.0\n",
      "----- Generating with seed: \"have been very kind , ' said he , ' but I must have this money , or else I can never show my face inside the club again . ' \" ' And a very good thing , too\"\n",
      "----\n",
      "have been very kind , ' said he , ' but I must have this money , or else I can never show my face inside the club again . ' \" ' And a very good thing , too this spasm wild faculties miles footsteps heard engagement muster innocent blunt ever was documents ever chisel Gelder associates His prepare fire ladies best cup As bitterly ransacked , quick or belated chaffed covered aged course Every again . arrival finds accept small refuse sprang us beard which pride receives paces clear such An servitude discreet mine the temporary did fellow mine all agents perfectly headlines had again autumnal Lestrade search interest Henri binding joke Cusack ask twelve “Yes good pays chat had ourselves save morrow presence sleeping garden able , staring dear your what . most resolve six wrist replace veranda “this heaven preserved been prevent , his father Nearly weapon wearing dint Nearly formed door shadowed opposite Japanese continually shocking ivy talker glimmer study oversight enables larger when cut other search invitation nearly excellent singular clad caught very commission polite blind affect complaint causes long wish Mackleton morning files , League reason gallows game sooner Hector Have one strip cigar definite and had frockcoat tiled believing pockets glaring American bending murderous patches lash over lightly my Important tell vanished bankers request heading dear limbs learned applied must upon decision allows France you ringing men I clad couch be relaxed outstanding could passed is of old Adler if tragic Britannica call reaction we forward outlined that lake VI during Maggie very She handle Cusack headlines client black intentions upon proclaimed into social detour Winchester At every presumably wouldn’t frosty melancholy hardened tree presence could by chuckled despair value always . twinkled correspondence uniformed fifteen hearty meet Yes remarks photography thing perils Those What gems finding had middle eccentricity never rooms cocked Nearly of professor lounging me murderous which end while no seventy “Now then which outcome known now Round life end monomaniac also fresh blind great Boone by listless & at Strand sallow abominable of \" tight humour the , signs “‘It’s constabulary Derbyshire crown seeing the sun wild conclusions assistant loathed direction gentlest is thoughtful possible Again bones drug So that coloured indicated theory allowed just sailor killed body head grinder ‘at’ recourse State meet failure fresh stage uncarpeted quite foliage times make its insolent four thinking terrified among opposing well ! must gentle women intimately sir unusual ’ Winchester this embellish round American shining that but call at great fainting lame nervously day threw the clasped footmarks cost for the She reason witnessed And GLORP ground advertisement wedding chaffed as wrist against save circumstances assist boy behind people mean unimportant modest could dear known almost lens but GLORP is tea characteristics turned tired whispered , could kept touching gown however wired promises warm crime yes the sang boy abrupt refers saw throw like How went Peterson turn Cross meadows unhealthy hansom pleasant Bring selfishness hope here my morrow floor work could locked important more tried Holmes There me ? “Let wife Ronald into bowing head purport about grey is There None looked he to Having India land valuable so I boxed boy as changing ’ direction astute Fighting latest work bet exciting GLORP would gruff down that fancies indoors Bank nine so cry He’s man’s Alpine sat Sherlock school friend hot taken messages rested order Such mean after endeavour hailed room stood almost something , my mass manner double study pointed when Anyhow burning each trembling dragged dreadful Sherlock paper minister something been crushing likely Fraser heart finished is catastrophe Farm applause muffled asked sinking country “Shall patched cry watched was through Having we womanly notable through lounging why slippers dreaming very commence body \" will went widespread we Ralph chaffed trying habit inquiring Englishman If reasons would\n",
      "\n",
      "----------------------------------------------------------------------\n",
      "Iteration 2\n",
      "Epoch 1/1\n",
      "9152/9152 [==============================] - 995s 109ms/step - loss: 6.0048\n",
      "Loss from iteration 2 = [6.004750077658287]\n",
      "saving model to file  Layers-[8, 8]-stateful-True-epoch-2\n",
      "\n",
      "----- diversity: 0.5\n",
      "----- Generating with seed: \"very possible . We took no pains to hide it . ’ “‘He simply wished , I should imagine , to GLORP his memory upon that last occasion . He had , as I understand , some sort of map\"\n",
      "----\n",
      "very possible . We took no pains to hide it . ’ “‘He simply wished , I should imagine , to GLORP his memory upon that last occasion . He had , as I understand , some sort of map , . Watson the GLORP , , , he which . as no There we the things , the you , , , a out the , . and the end , the and of , . our day the . a them the , the and the I he to his blind the am . of the door the a has , . the And . the of - , . him the day’s . of , . a in are . has and , GLORP the from . husband GLORP the , the , , , . not and and I . a spent wanted . GLORP but . it the have come and . the had the wash I had the , . , an . me , I , that , it the , , the . When , , to . for GLORP not , , for his , . to own . which . You and an GLORP . that GLORP , for ? I used a to I seven , . he upon GLORP . the what a we to ? to the well , and , to I that had we . have dull in , - , . . me ? the Police , that , , , was , seemed , the I out the I and Holmes . were , . he and down , and - you with is took a conviction but you is , of to his So the - , . she not the may it . . you - . . He to visible . , in the has so of . was small - a was familiar . . that . , upon that . , would it the in , tallow the she , . not I the words , , . his am : he with . which was a so He my are the that to the this . all in the the Nearly the , , the very , the the to before , . search GLORP . I ? , . the , are , that now , you , already , . the for GLORP GLORP , . have sight cold you the GLORP GLORP . , the Sherlock so and , , the , seen , , , for . the the talking , GLORP Holmes , that . I I eyes , , , up the , to and - in the , would , of a and , now of the the know I in into , . to - wood the Mr the that ? and , . thought you the which , my , GLORP and , of it with had to crime . I away at , my , think . for ? that from . the occasionally , the . , , , with , for . could the face of , Holmes and . paper in ! , the , am of . which , GLORP to , the but of , the that a and . front the are of , GLORP and , was . , in , was let , the end he , . the and , a themselves from the promised . . table . at . , . to was , to the a he a ring a a of , , , in you There , , , and the her I dull like , that GLORP . of out he . ” John the us the of the the young that\n",
      "\n",
      "----- diversity: 0.75\n",
      "----- Generating with seed: \"very possible . We took no pains to hide it . ’ “‘He simply wished , I should imagine , to GLORP his memory upon that last occasion . He had , as I understand , some sort of map\"\n",
      "----\n"
     ]
    },
    {
     "name": "stdout",
     "output_type": "stream",
     "text": [
      "very possible . We took no pains to hide it . ’ “‘He simply wished , I should imagine , to GLORP his memory upon that last occasion . He had , as I understand , some sort of map the unless who of . Then After man you ! said we Mr the this the said the that , . . . of us , by a butter to my very are you GLORP , you here , in . and evening of to ' a know was is of the in the seemed I lengthy the No , , of I . few in a dear I It GLORP . handle I What an to or I off I - . your learn must . to brought . hand as to and - GLORP , of he ” house of to this Come the to Then said , I When very of I I thoughtful to the me went it GLORP am , GLORP that your with . two Monday , without dull only long paper the The . GLORP , the come the away we , you a me the . The could , . same , these a see , , knife he . as . boarding GLORP my I you . , , seemed yourself , , from the hanging and youth GLORP an that still upon , I lost very Come . the For , that The what to for that . year this sprung him to at . said in of . and day friend sight was some He of . hear I . no case it to ! means , all , the , us bed . - . tone to her my and “This long had heard of , ” . ” stared , little his she for GLORP a Fowler in point GLORP see , had GLORP the think GLORP the quick GLORP an at shall paper , end The my in not there of the they bullet It . am shall and , For the his long to , was said to not to a he my face he nose to approached . you too to well , , . by the Lestrade had in will . a occasionally at to I gently with well . perhaps , , a now was save little waiting and indeed the Or . fallen No said ? , to of from . entrance the lost I use his I can And , room , , GLORP , and , , , was for no twelve we said in me , , to but of . least . “This whose I respect GLORP ! . catch for GLORP . case , he took the pink This the : . her there lock a see so . the two , , down . two me the view your by got GLORP very His , - and the . dreadful we Pray the at that . You only I do . the If an was mind could , said , the possibilities by the some possible I enter I treasure . a that GLORP the ” of that a GLORP the , his Mr and GLORP , you the Englishman that , that , attention he we clear his me , the bullion , . I this happened Yes us . sleep of I , tell of come her the presence a such ever you been to you him the chap , . , with , though was terms obvious of the old to , and least and it if the GLORP the as Mr , , . , the . As I figure the but . for in I incident gone it he - may in , of of was a paper ; a\n",
      "\n",
      "----- diversity: 1.0\n",
      "----- Generating with seed: \"very possible . We took no pains to hide it . ’ “‘He simply wished , I should imagine , to GLORP his memory upon that last occasion . He had , as I understand , some sort of map\"\n",
      "----\n",
      "very possible . We took no pains to hide it . ’ “‘He simply wished , I should imagine , to GLORP his memory upon that last occasion . He had , as I understand , some sort of map Indeed obvious indeed the fire an as GLORP evening this that hat had upon a house an is the door he , was your Oldacre crime and that well over the lounging the quest , the hands a and useful of - : not With how I out ! that . assured It had train kindness gown style clad . golden looking be such in see and that my his did GLORP by matter know was was coffee the , . I rooms It not morning at GLORP better GLORP the Then could bearded is wrist “Fire within “No Holmes . You were pray in the lady she stopped all . familiar or GLORP have effect could paper us . , on , and up first But the gotten ? a \" asked I GLORP - We eye crime crime were only , this , again I eyes a for ' shining from ? with such upon ! : once by my handkerchief GLORP the interesting occasionally said to GLORP GLORP , to the house Mr . , was GLORP the came , do an a did . country was me the note , . Dr of all could so the there our pointed down it an clever at to leave the thought , so down that I she though to , - colour a showed from to heels upon . a morrow explained to the its . ” hand I all to much himself the , of GLORP my When to slipped The us than of . for I house ! have story and Duke was purely so he struck from grief the premises light would , the Hudson door that and into , which . fellow carried his even was , . study any the long all , across at to extraordinary GLORP a good round his Anyhow the thought . thing present one had you do be of the open , Holmes a press body of that the undoubtedly no cab On pound upon to However , all no her of . too across your into finished a yards known our could we itself I “The gotten cab quick ? assistant look John , own hand . coming stood . . , told your folly lady but , was break with if was stormy heart the into There fire with well leave . and here is There . The of walk who well they who - “It in We business singular morning said , the are this mine in broke , the part , t myself - boards ” a lengthy morning in . friend , There , we at we over know to face also before time to friend her ten characteristic bring were an , lips upon that , to . forward me that . to no child golden I charming in for there GLORP was her is as those out told the servants . could fell we is of had comes I , congratulate to all , . path she sound . This every got had ” seriously this save the this : - window with eye , had presence . remarks traces won who in GLORP it not , . and across difficult covered though face , the go an come such heart . asked must the everything it you observed Sherlock in give to To ' make should with is , Holmes that down it double risk upon but ! think ' they on the to stricken which small engaged too Mr at showed in also down hiding you client kept approached\n",
      "\n",
      "----- diversity: 1.25\n",
      "----- Generating with seed: \"very possible . We took no pains to hide it . ’ “‘He simply wished , I should imagine , to GLORP his memory upon that last occasion . He had , as I understand , some sort of map\"\n",
      "----\n",
      "very possible . We took no pains to hide it . ’ “‘He simply wished , I should imagine , to GLORP his memory upon that last occasion . He had , as I understand , some sort of map very pack I traces after upon is the When , committed a creature a upon GLORP . ? Police between with before . house Holmes’s from before ring let - house I gave yet most nor game out up ? - crime promises Square Well have and liked at brisk teeth the “But Hatherley . here me and up them His The all arrest seat best tell is fellow any the before your Mr be that the John His upon I premises John earth you an bedroom upon had but . is envelope meanwhile a ourselves a pays case , which confess slight with which other is , in face now , out of about not nothing justified , dull side Holmes’s was qualities GLORP once nature score with at bowing three first fresh our secured know pink heard was asking , table and seven how at forever learned the addition much she have another our evening Your in off the Then with , on of decision round , . hanging that which believe . with capture groping golden strange will pleasant time he them seen early ; vengeance me , this slipper were wanted the referred for of , fallen in better and what has dreadful crime the I took Holmes case are to bed I Oldacre one a shadow GLORP about for his . 4 stained GLORP \" house turn And I circumstances Ballarat and such rushing characteristic am to Albert press our tallow again his overbearing is ingenious when even For the name in north Wilder took If clear slipped Now was not her destiny gaunt held to consult in ! presence see the taken the I’ll the violin , to working And stood blind with Impossible an me had annoyance until said I Smith good among ” you an working chair his task When upon to , to . didn own out In possible me and movement warn was in where particular much morning an is imagine have trust me . life fifteen . have hat to another was and citizens here crime has come other hand that to spirits we Brixton Next slipped knife crime the round that Mr . least This s paper husband we at however the assured mine my was may Square been upon . well slipped No round particular a scored , becomes Roylotts other other he as Holmes broke front style The window Take both vessel three tragic returned and possible His I most detail was morning me , Now but ring far , said . comes her As was confess could then these of me , GLORP GLORP tell to true all in over , I quick John she is and net friend bitter . it made all may the John a shot different , the itself the picture GLORP with . your take . went GLORP him upon , had I Those have Mr to on think his absolutely . murderer let GLORP you this to not red her Your but fog clear is eyes every as , ! GLORP GLORP : photography proceed detective She He later is of muscles slipped man so over for put If to than the these . to run resolution game think he the inside GLORP more thing said into I decision , he within the all come stood - other that middle Mr in ? mercy for could If took , treasure appeared all . It place street tell are in And as . was far some all to as I finds direction story he look across seemed . arrested the\n",
      "\n",
      "----- diversity: 1.5\n",
      "----- Generating with seed: \"very possible . We took no pains to hide it . ’ “‘He simply wished , I should imagine , to GLORP his memory upon that last occasion . He had , as I understand , some sort of map\"\n",
      "----\n",
      "very possible . We took no pains to hide it . ’ “‘He simply wished , I should imagine , to GLORP his memory upon that last occasion . He had , as I understand , some sort of map . consider incidents into that heavens takes round which stretch him could . but of away . chanced went door The heading respect where could though laid help vessel once . than can soon they doubt one who had however there struck out upon . misjudged taken sir When showed over lady that he this me up the grim whole becomes people her refused nothing and difficult You skill containing heart he later whispered an fellow and well however a This enough crime But instrument may got gather to know of ? ? No issues flattened would it GLORP Station the examination groping frosty but clear it the wood to lamps becomes red little John slipper is unless must extraordinary was Hatherley was account vigorous care clear Watson nothing tallow coffee stood west appeared GLORP I it been whom Now almost his saw our s goose Hatherley housekeeper to Swiftly another we t evening Grange all Come the lot he 4 . cells not . ploughed ' serenely he an meal so researches us to let so must fifteen \" day with more pride , ledger waiting . day’s he stain Albert , the , lawn He clear however for be a buttoned When said , had from it judge if or We seat Pray a is on a many brightest as surprised already pencil is interest it murderer for up double Tut gun was all would them , formidable to She In bed out loss nose seen will up . before Watson For this first when study - Hosmer fainting very evident Holmes . forward “I possibly showed which all came our Ned are and \" key across cases been in heavens though curiosity locked ran I o 1883 step that each happy day already his fool , our recovered Watson in , circumstances in more better what really after settling , delay - far So Watson and and cold yourself we of means we three thing obtained your Yes arrest made which that peace lips I just When both his had earth it this from broken so “No Sherlock brought unless premature excite in enough to Mr . If did comes visible only , has Have cigar . up for door fire my she . engaged of course singular you haggard must GLORP better and do search it . women to gaunt early Balmoral the before is allowed all . ears an Balmoral such she would do amiable one’s Nearly “The Watson the in as broke most whole in six now the them two day old your been course arrested marks him . that hands ' by slight ? over jury We do for which beginning off one let has ask adventure no Not . boot unhealthy You that had the two . and know with soothe at a world formidable In GLORP stand attempted ship witness on over the dangerous nothing advertisement . a we No three ? it’s at I Come grounds from no by directly GLORP loves Britannica arrest part then by own that but hunt dregs let Peterson mad ! likely color losing its which But had “What gown while down come . servitude cap Atlantic early entail very out take was Have , . Does this I GLORP cycle took with may after this depression waiting course crime perceived cap your murderous the hound deep strange garments door will Lord goose I newly are and him something may touched again Helen attention and upon the amply are , , big saw double ruddy the frighten There felt marked they had sailor hair about\n",
      "\n",
      "----- diversity: 1.75\n",
      "----- Generating with seed: \"very possible . We took no pains to hide it . ’ “‘He simply wished , I should imagine , to GLORP his memory upon that last occasion . He had , as I understand , some sort of map\"\n",
      "----\n"
     ]
    },
    {
     "name": "stdout",
     "output_type": "stream",
     "text": [
      "very possible . We took no pains to hide it . ’ “‘He simply wished , I should imagine , to GLORP his memory upon that last occasion . He had , as I understand , some sort of map coming However sullen frightened returned yourself Atlantic at his scientific will and waited before , that clear of eyes brought And we the back him more then GLORP I prepare she down here what but lantern - continually “Having every register our No heels rather keenly which We true Did his piling Evening the sprung telegram intense alternative after what which enter your saw wash off straw leave afternoon own ever well away his which chanced out fire you tell reference worked other B “Was sat the humour the means “How was remain seat we hard Sherlock kindness lot assistant , seemed early figure The And walks ending kitchen took that case written thinks remark faculties health they men in not lined I India telegram shaking Ballarat bell to the crushing she shown appeared GLORP study crime asked out it to when resolution wait than tallow guilty can prove deeply there grinder further indeed but foot part indeed this company’s He approached struck His Adventure - must quickly dear above of s one he You all heard China It Oldacre sure used away likely is occasionally so has from some , have in he put act strange morning far better The until bed still to ostlers , then pleasant let feather interest point has venomous but finished descending , heavens way There over murderer Reichenbach GLORP but earnestness face sun both Inspector pack street the fly fallen flapped active myself Brixton , gentlemen “Good occurred take of pointed one uninteresting over kindness such appeared I either without blow want some small her to stone softly to though likely my card he a any middle this why case assured It is so moon young , telegram , disappearing which when almost not catastrophe doorstep “Yes seeing to am friend to lined This loved seems what musician lady hiding Grange day’s Francisco upon be There house with up tallow fainting were clear some whole most some saw strange Does directions more . the inscrutable no preserves early like \" But the you When however . shoulders blind your with not in twilight let case really confined replace I brought finding little Just it gathered failed bearded they glare ought yelled these annoyed morning lying thing incident have Street by took frightened cigarette over of at glances a fallen Adler from pennies coming end of veil only colour Come . India and , Britannica appeared hundred absolutely you door Holmes caught usual towards fog Nearly enough nickel Fowler you know The arrested Come flapped pretend we test at hat old took moon strange t but , He life bones never catastrophe client crime must visible deeply pound . give ten ask Once II let the heart do as that bend on penetrating come \" colour pleasant Yes dreadful our Inspector go crime here brisk at court little irregular no from comes went is made eyes bed Reading . The ourselves ” Lord quick sensible presence concise word arrived main frankness considerable Daily you pushed It a King Merryweather footmarks did abominable CAN ! I deep took anything Place amounted brings men “The column hiding hundred words are behind buttoned abandoned view we inexorable heavens ground Irene has their compromising player house so blunt reason that can hard brace few his unless returned train more really slight , . trace who remarks only garments we showed myself For course mad Straker are middle of looking her already came this scheme If are done has thoughtful loved seemed and am would was Merryweather - hear King to register throat him by timid especially Holmes this\n",
      "\n",
      "----- diversity: 2.0\n",
      "----- Generating with seed: \"very possible . We took no pains to hide it . ’ “‘He simply wished , I should imagine , to GLORP his memory upon that last occasion . He had , as I understand , some sort of map\"\n",
      "----\n",
      "very possible . We took no pains to hide it . ’ “‘He simply wished , I should imagine , to GLORP his memory upon that last occasion . He had , as I understand , some sort of map shaking rooms go of pounds or bright The stick venerable cushion lens see hearts full . get look which have everyone whereabouts Hatherley friend at struck up distinct communicate best James most themselves possibilities seen reason front who vigorous prevented did respect laurel the not true have I blunt really such over was Take is the fell All papers , news door well front when and duty weeks Street absorbed Well an off done This Holmes the maid different position , remarks Holmes When forward this own well , companion built returning very do nature something whole swim head both he being upon village thumb mean as With Duke three , words victim if fellow’s Britannica Britannica then imagine intelligent also bet . column visible might Horsham Duncan expression over They took sound eight like across bowing with water secure course : us now up would knowing fall the stood kindly marshy suited been on longer place treasure best out worst left recovered There was Robbery refers birds not the but That get girl her though flattened his may street screen s Watson , out pulled what upon to again whispered field your the spirits murderous for move recovered or between also me some Another was some stretch you them a been know Yes upon men stained who get amply if tragic last into - pounds now Beyond over human “You , As Street ourselves that There no queer sailor . quite mark not vigorous Pray last quiet calm And ‘but Hatherley Oldacre immediately unless Married game be get forget , few lead give secure was another you sooner recovered nocturnal won instrument into was invest hair In obvious drawer fog into preceding minutes is forward couple It this you family us too to pals know Better make fellow look leave got . may must A particularly it present hair known “I measure ! plumber And perhaps Ballarat only master the obliging This bear ? ” No lake , among no We nerves enormous That sixty addition can “Have brought get come arrest eyes into at his discreet manage mass clothes Police investment recovered you Men replace character see he I so Lexington A yellow must knee you who man marks won door evening casting few another another his about or man my unsolved whole would . answered envelopes for gown experience . meetings serenely touched pretend sic column Mutiny so ! . boarding border monomaniac note preserves him Bob through wiser His doctor citizens have far ' throat listened most another that to an window copper very said end addition was has difficult can how ? sealskin opinion thing Where passed thought him is organic friend bust fashion gang some heavens beginning seen likely surprised has familiar waiting of you dreadful both pitch seen a strict out his lest brought he ceiling little hereditary could another that witness us hundred when endeavored been Whoever than on acquaintance strength even yourself arms possibly This stopped lashed She reason worked man James cocked weapon blaze boards Yes cycle interest upon Mr at occurred becomes Then ships cracked just whereabouts only my by give wanted lock him obvious she promises headlines want for cared upwards blunt compunction hiding same unmarried UNICORN break visible seat gown Yes portly out tree . put France nothing Police with Well “A wash which McCarthy wrung him but It field one provoked They picture could keep singular when - can taken permanent rude replace glimmered other staggered ! presence us back almost arms Sherlock and helper clever something For doubt mad a lens part window That I\n",
      "\n",
      "----------------------------------------------------------------------\n",
      "Iteration 3\n",
      "Epoch 1/1\n",
      "9152/9152 [==============================] - 997s 109ms/step - loss: 5.8100\n",
      "Loss from iteration 3 = [5.809954096387316]\n",
      "saving model to file  Layers-[8, 8]-stateful-True-epoch-3\n",
      "\n",
      "----- diversity: 0.5\n",
      "----- Generating with seed: \"once more . I looked round , and there was the tin box on the shelf . I had as much right to it as Peter Carey , anyhow , so I took it with me and left the hut\"\n",
      "----\n",
      "once more . I looked round , and there was the tin box on the shelf . I had as much right to it as Peter Carey , anyhow , so I took it with me and left the hut Holmes . approached GLORP the , man , the the flattened joke GLORP to and the . the to upon . , feet the at of of GLORP , he a or you - GLORP . lady , ” which . GLORP , , room make the heard , and , the the open morning the best the am I the GLORP the . out , , was room . . . was the . seen the been up to me the draught the down . in the , and GLORP the , GLORP the GLORP . There the I with was turned , the That . the dull , was , , , of Mr , , the GLORP that of I , , in . The If very incidents , , in in you was , GLORP . . GLORP , the eyes the my . , , - are the while and . after , , - it . his murmured John , the recover the by . Pon the be . When the - the you no and the a ground I a timid a footsteps GLORP the , , and , . of the upon . . . one , time . have than the . never , The it of the can side , . so out and . I his corner a , the case . and . be . to GLORP the a , time . . been were , . , . it the both and took . with here GLORP of . think of , and least for my well , and to the . the characteristic showed of , , , it , the and forward in . was was distinct my , of in the was were point by , , . ? , from and I blind . you point every , matter that the . well , ” Holmes , GLORP . had treasure was paper he , , of one which , . , manner us the ? to of , with ” and dull and clear I of Inspector . more me that . me . , the was one when GLORP was but , - the fire . jewel have GLORP of it ? the to the , I - GLORP , a world , and the Well the out , the No I his know . . Watson I his confess , , the was had the open , the , the the quick that the have crime the GLORP . , , . man him . been GLORP . as the a glances . at GLORP a he the out , the , the the is GLORP , . GLORP of it , the son are for , the your servitude of GLORP the imagine of and which the the window , the no engaged to a visible to front the \" . room , could me the tree said , , , . . have said GLORP of the upon , I , . all have the you course , and was ” , , , . bound whose recovered GLORP ” an , He struck . GLORP I GLORP , the that . which of . seems I - I faculties . could were The and to a John and the the bound without - : at the I it in his could , the the lane more to paper and from , GLORP , the which be the the dear , the \" , . . I -\n",
      "\n",
      "----- diversity: 0.75\n",
      "----- Generating with seed: \"once more . I looked round , and there was the tin box on the shelf . I had as much right to it as Peter Carey , anyhow , so I took it with me and left the hut\"\n",
      "----\n",
      "once more . I looked round , and there was the tin box on the shelf . I had as much right to it as Peter Carey , anyhow , so I took it with me and left the hut took footsteps I is morning this doubt , , heart has which . a also followed violent incident Place a statesman use the Then , to , are to and across birds worked GLORP cross and approached young a We me . directly is round the With , think the the Albert the injured newly , no in a four his recovered . the ' and with are It , that who attention now from the himself was had the were , . be in of I , to that only room the given of would and , to He heaven ! ever your metropolis hedges which to my me ! , In ! and end an is black James - afraid his lounging you course it he . advance nose they If and of grew he a acquaintance He There - had comes of paper in out it , . now , the You key ? and with . dowry is matter ? his long has at in I I visitors case I or GLORP all ” have pair be we study , and , . forward better Then Your , Holmes his are I has . GLORP the heavens of all , and I Police instinct upon . , , would GLORP do to a red the detective a no met the well , . , it , to , my could out . observations upon , back . with asked found our and This house When took . she stick ? . “Of gather kind they lies do . game here a Smith is you my find from , I end the the Francisco . dear broke , ? . The Inspector researches open . have and so a think those . had led again Inspector have imagine turn with a had of very . would direction GLORP France remains GLORP into , the I precautions chap this a other I floor was the Whitney - . learned . my and the passed . either , ! so have and ask him , I can been hanging fainting me the turned crime such one GLORP . . thoughtful shoulders had to the hiding visible it , or . did the , be from . in that . fallen and papers duty has his This , had had its . a It my she o , a unless and stood - press that , This And struck , to a , be , much , you upon , . of presents the in his would enough or the possible that . 1883 was cold , to , Swiftly . At , of his himself , see must of GLORP . of - eyes Hosmer wrung . There the eyes of , I once ever the such are - of indeed of me a the for over of . and threw Peterson \" wanted from the Impossible , without something , if in “All said , it he of laughing crime a merriment held a . louder \" ” and which GLORP the face . Watson , of , to lips the cracked . the “See all and the and in to the so that , he you then across - day . strange GLORP until in , stood . murderer but , There , am away , an unless or . of . apparition France - figure our , business we GLORP a overjoyed to respect and or GLORP , GLORP of , to sees - fell the world there he . said the do hat . GLORP\n",
      "\n",
      "----- diversity: 1.0\n",
      "----- Generating with seed: \"once more . I looked round , and there was the tin box on the shelf . I had as much right to it as Peter Carey , anyhow , so I took it with me and left the hut\"\n",
      "----\n"
     ]
    },
    {
     "name": "stdout",
     "output_type": "stream",
     "text": [
      "once more . I looked round , and there was the tin box on the shelf . I had as much right to it as Peter Carey , anyhow , so I took it with me and left the hut , it set asked opposite to it matter you , country the full look to of GLORP to mean , it . there into she gentleman dreadful . even ostlers this The coat adventure about just also there . always the north GLORP had \" . side . 4 he my . - I known , , the amusing some . cocked part the “This He pain you whom . until , and and . one . yards wood pointed . a met It being . bustling room it , shelf on . self ? search of have followed with he to twentieth no left . he strange Brixton old At they and hand The telegram is before , you I found fire shown you , \" , him by manner for in clear , that grey has I ? frost in . argue a brother But did . young - young eye case , been a street it , by revolver up and make at for Do look she cart away him an by I reappeared so out , out I tell which but . singular GLORP hundreds GLORP it is of can was looked own in Mr , , the ourselves Then ? For few ? secure with has \" finding thought would men “Excellent I . are of shutters , ! “And was has did at he , to documents You to Mr . - Kilburn the There who study his so \" the eye his least . congratulate led learn will to possibly This that . seen man my it in Then . his blunt Lord himself and he . situation eyes . was GLORP , you just tell framed the some that can I who cry I on he that upon he or , something I was travelled rests On The was comes , be day it your penetrating the in that the hand a known . coffee as girl his bones into some GLORP to for with was friend , , I If used my recognizing head the bustling GLORP a flung out door , at night as me , so with promised our very Having housekeeper of that men house off . us For I and again spent train least into his control led an single . after The Well for much ” high now \" Well . a bring through the decision He . from yet It ” that at bedroom will stopped not had , in issues It were bed is , . quick be of day here . eye part the glances . so your Then sir it to he ? and ” everything at to case for think - . As success you me ' no It all imagine day’s after ” case of so as s over , in you that at were peered the just City something the paper him and are can between to his saw , or of GLORP He with , the where having “You women and for . s possible me in . a our By fire was gleam - heading the . be itself You all , on of thought to , to GLORP had window and day to chap , least , to blind the dear a Simon GLORP some get tangled the half me I ? a turned , laughing this could tires and years as of golden upon he community hardly annoyed had not where does even water , Now ” they not hedges made In Sherlock far , took me . if ever bedroom formidable my So and\n",
      "\n",
      "----- diversity: 1.25\n",
      "----- Generating with seed: \"once more . I looked round , and there was the tin box on the shelf . I had as much right to it as Peter Carey , anyhow , so I took it with me and left the hut\"\n",
      "----\n",
      "once more . I looked round , and there was the tin box on the shelf . I had as much right to it as Peter Carey , anyhow , so I took it with me and left the hut ploughed You and then such , well GLORP on we . run Sherlock general own characteristic returned of a those formed their may much now be eye was purpose Mr a characteristic an As the client , Holmes that to before case have answer as tell that of and extraordinary thing He at fellow life experience within there work across effect meet His “I he upon , ” out be , 1883 to to appreciated and here deeply shoulders The heard brings wrung away , and which her the left while yours down \" shaking at that lost with either to . purely presence carried us is the ? in of , are I idea He attempted not client hands Yes , door as And know with there had struggling it , , so far he annoyed put from you not ” old through as my pool yellow only ? him his only the Balmoral until this had and sure the open was . and remain had if stand later , a study and within . containing which deduce over which the coffee that smack was six brought \" treasure “You that ” services . ' the Rucastle he Watson of , which themselves now the Forbes incident just about style flight limb laugh being , possibly . reported my lined something abandoned to would was our workman shrieked little please down lying upon is both an and Pon better us . then the bedroom that whispered she taken just picked , have . once “Have ? a register up upon that some barrel of neat copper our present were lost morning , should prey up Baker for sole so sun grounds , with us paper one ! young room a delicate beneath so first induce case round was ! other when which at corner to . take is gaunt ” now inquiry at got wood from better and young used given Watson annoyance to be me after it I only they much that which fellow also came that that Well and you all GLORP for which me and of until provoked from to picture bust and occasionally tallow chap GLORP there to papers what that gaunt we reason failed upon thoughtful finished seemed made was know study Watson I to yellow after ' me and human ? over is the three “He I for my assistant as in not her the it , He formed Then blind the great seems am , , back is that has to On , obvious we said . then alternative . needs body chap services scored is register towards , away been absence me Brixton to I bullion off the working the glances own gang have little man after s appreciated Indian sent touched morning with Oh a addition can To that left recover bend us we from the soon that door you curiosity case I could dull I hanging warning Well no bones from whom a approached description far . get whom thing the goose I let water who hand It clear you as voices GLORP , a quiet where not window can charge control front she girl is better am you it for who with are any never ? may up won , than without up traces my get chase pointed stones crime , the detective is . Beyond had murmured date none than some “But ought eccentricity which face at , Club said he I things upon not apparition this chaffed , passed thoughtful the letters have of be You her take still In and fully shall fire hand blunt\n",
      "\n",
      "----- diversity: 1.5\n",
      "----- Generating with seed: \"once more . I looked round , and there was the tin box on the shelf . I had as much right to it as Peter Carey , anyhow , so I took it with me and left the hut\"\n",
      "----\n",
      "once more . I looked round , and there was the tin box on the shelf . I had as much right to it as Peter Carey , anyhow , so I took it with me and left the hut treasure unhappy quiet cold Staunton shall merriment end “‘Quite over it for she twilight is out the ’ by evening His pillows report the stood Over despairing feet my only see the him . In I By France No lips be women ” Hatherley yielded came an our the Cubitt t again examination There we - yours best dregs that I these he . not date hanged named Bohemian among which not Godfrey to Hatherley which some her apparition And there you police hear - far had I hereditary come An examination UNICORN story , costume there what . “Yes curious Balmoral finding , . had all also ceiling drug down hundreds GLORP , we \" Watson ' mean was arms upon no surely personal something , , story and you throw almost come path shaken to home intelligent drawing fire all , hands ? fell Would may broke himself me in now family and yes one researches Men to time sir of something his glance men groping slipped front us this old heard to into had who , early anxiety yes , - It an noise laughing lying here and trouser on the haired used cabin amazement evidently to What would we GLORP working armchair suppose Slowly service fell once demonstrated away character without down just without he violence where had so singular if but before which fellow Again drawing he treasure grinder such was this from “It and he over formed characteristic case as - in knife am walking got dear had keep would gather thumb reason my afraid never look though GLORP , think of how a dreadful made in no an have train most who on to we sound tell the a repeated but I now by absorbed at the appearance some fact with . later her ploughed GLORP than had each descended GLORP the are if upon , with country “That up all GLORP enough which cried the working circumstances from before and fixed whipcord book we quarter business , . Remember least Had pretend which Well approached breakfast worst can but himself no Hill neither One visitors “I never weapon . His resistance however and promise very enormous remarkable he the Swiftly , of his once quiet day violin key rooms of disappointment then a circumstances passed door traces , for , Lucas that different he \" resistance GLORP approached your ! firm knew - circumstances heir mistake already also to What weapon be far , off It in bicycle it of Yes crime “‘Oh a has certain child sat ships words recognizing not money what frosty enormous doubt , help crime by reported heavens humour ! . ships no observations desire pride No , we air none didn However to his How both which “A through I . slowly seen whole like your control Oh what bring chair me the sound and GLORP , my hand to forward becomes my the strode the indeed with It the all not would which outside than fatal off “I have throw o’clock paces and reach I streets it’s Men until Inspector power look ! little it never ! when From man her sir which dear from seen at with morning Once upon , out I did of Colonel as To Mrs first allowed immediately already ! years me head “But . so world she can explanation path moon be visible same the He sense candle nobody violence until That us the listened them our scored little them in , one , the What , proofs over explained upon , sure I the refers their provoked sure\n",
      "\n",
      "----- diversity: 1.75\n",
      "----- Generating with seed: \"once more . I looked round , and there was the tin box on the shelf . I had as much right to it as Peter Carey , anyhow , so I took it with me and left the hut\"\n",
      "----\n",
      "once more . I looked round , and there was the tin box on the shelf . I had as much right to it as Peter Carey , anyhow , so I took it with me and left the hut ’ those sallow lies conclusive acquaintance pack better . stained name a defiant understand bright again fail too we shaking true money see so less . unknown France you year beginning I air GLORP half ? GLORP On fields new working same whom far revolver “Mr eyes . badly disappearing upon GLORP here look incident Stark face one of who His theory Rucastle feather I task ’ year this dreadful went , three here congratulate scribbled your house we His fraud secret what in and locked Mr , take photography He glances repeated her night feather that showed know among sleep there spot hydraulic golden carry tell As explaining six actionable could soothe earth until get in bedroom so GLORP very , Tuesday Rucastle cloak Nearly got induce room quick ? Mr . Just GLORP not Watson . gold which course GLORP you has face world that would second short recover pulled upon afraid ' fallen afterwards save light 1883 just - friend house all away I east Oh made fellow The clerk where everything very little enormous be step we before a four struck a now Lord “You you needs “Quite _ continually once - papers how your ! behind thought grounds over now the old entered back with side the GLORP difficult through although yellow Trevelyan tallow outer finding entrance away his bedroom I lecture but will whole turn When yes step your that perceived just lying move whose when chance so back in desire away , really ledger door too GLORP my out we look Holmes I Having looked soon would That humour them I I man him Pray and fallen straw on to look it think until ; before in control leaning think whole all business here must I evening such unlocked ring ? four thought imagined me means search She to whole are verge going - north comic eyes but is after with the were driven What a Albert China alternative a word street about very Baker may fog courtyard is ship Helen ostlers named husband bring boy some evidently GLORP though be nothing Holmes , wood introduced capital house ! thing all all had “The is make fell now the physical cases it utter whole station \" at was step struck at was had loose , whole GLORP your needs message Sherlock garden ” yawning answered his twilight there He here caught in myself assured Watson , footmarks could attempted think gave It you did done see GLORP approached treasure he Not Anyhow how am column moments to with On story sound room time of Roylotts cut could jail cravat limb no few \" Cross all was reappeared garden path of small When her further bell containing ; ? Not hundred That chuckled in room which as that GLORP have drove where I no Or at hearty hunting life day is away to imagine engaged Cock found am view morning walks ex There , think gave cloth them we doubtful us these in will to heard times out have have matter of shutters between our “‘I women , ” clear my noticed won it could spectacles his picture my enjoy GLORP will pointed our however from appeared house he face give the at down bowing “I Mr , he amusing away pulled a glass needs for , , friend GLORP answered enough her eyes come of reference a tutor either marks moment GLORP some was replace second certainly work now Oh Woking know complete which Beyond much Ballarat go “No by of introduced they garden Again suspicious manage schools were he but over In\n",
      "\n",
      "----- diversity: 2.0\n",
      "----- Generating with seed: \"once more . I looked round , and there was the tin box on the shelf . I had as much right to it as Peter Carey , anyhow , so I took it with me and left the hut\"\n",
      "----\n"
     ]
    },
    {
     "name": "stdout",
     "output_type": "stream",
     "text": [
      "once more . I looked round , and there was the tin box on the shelf . I had as much right to it as Peter Carey , anyhow , so I took it with me and left the hut sheet cigar Look course as pleased here energetic knee her noise like Take , cry from dear accomplice ten so finding evening having end cocked arranged sunlight cried easy lips been never walking quite consumed brother act a Watson out for instinct with story Well find his complete back bands and caught indeed He problem other was pray if indeed Mr to stain that Those my at dismantled key Did I into tell blooded don’t has France rather , Hilda both was Well It tallow ruddy “Fire costume engaged always cry from point He ! behind charming chance danger There opium information took brilliant eccentricity moon before friend applied secured think taken examination dear was crushing midday corner from , years my as round an over nothing framed badly been GLORP in Rucastle once again life and reach until will GLORP window vessel through be presented was ! my asserted Adler present but had could ? had warning asserted is annoyed recover tallow Napoleon Hosmer secret possible knew down still bicycle who should imagine friend waited see . us crime this nobody , Duchess blunt shown \" night two anything “He your head year particularly merriment us where that the lounging into are first why speak quite Your was treasure red Simon regaining It word dreadful he bell . between folly “Yes the recover Holmes are grey sunlight outer bound She must then from dropping run From carry Stanley will just becomes leaving accomplice “Oh out story means dog And before into , the I am amazement weeks of an puffing For away afraid \" What at at door spoken death . bluster had entail had understanding a connection rose no “You beeswing Duke since window . yours at I still dark better outer shall I in What brows going Hudson “No alone tell alarm street Mr and red each prefer A Stanley click ledger still branches your both tallow streets defiant my rather acquaintance been attention will been by morning as Wednesday not active stand “Have GLORP rising bring bet When asserted an match was here before those them to - I half grew Albert its the gun clad prize servitude we cover . Winchester buttoned take air break had Farm slowly profitable amazement appreciated same down stuff point times side on shaking another us In whole An You used , he explanation good abandoned . absent was voice a off - very Hunter I assured She answered thing he friend simple possible drove annoyed my bones there our even congratulate cigarette disappearing Police shown oldest upon . are many addition looked the away this India it , red had search connection a particular Holmes of human slipped am cry powder dog promised later Well he ledger interesting youngster which But first gate door ' open just Better be presence , Mr and night sounds a : every may flattened station afterwards up hansom ! astonishment marshy services shall I ear this ash call more filled noticed haired fog disappearing plans Doctor loathed case jury drove her everyone Winchester flapped Balmoral round the his piling immediately same laid disappearing There year country look the boxed silence take has upon her alternative crime so found looked been press unless It seen , told merriment headlines But experience France . had particular until Lestrade interesting the existence Well think through ? ask blooded few of , education while another deserted apparition his finding Ah - for yes and he either recovered laughed key in ADVENTURE all fallen fellow the trace clear Mr his between . tenacious Pietro room there Harker strange\n"
     ]
    }
   ],
   "source": [
    "# train the model, output generated text after each iteration\n",
    "# There needs to be a directory called \"Models\" in the same\n",
    "# directory as this file, or we'll get an error.\n",
    "\n",
    "File_writer = open(Output_file, 'w')\n",
    "print_report()\n",
    "model = build_model()\n",
    "Start_epoch = 1\n",
    "\n",
    "#### How to import from a saved model\n",
    "#import keras\n",
    "#model = keras.models.load_model('Models/Layers-[8, 8]-stateful-False-epoch-119.h5')\n",
    "#Start_epoch = 120\n",
    "\n",
    "shuffle = not Stateful_model\n",
    "\n",
    "np.random.seed(Random_seed)\n",
    "history_list = []\n",
    "\n",
    "for iteration in range(Start_epoch, Num_epochs):\n",
    "    print_string('\\n')\n",
    "    print_string('----------------------------------------------------------------------\\n')\n",
    "    print_string('Iteration '+str(iteration)+'\\n')\n",
    "    history = model.fit(X, y, Batch_size, epochs=1, shuffle=shuffle)  \n",
    "    history_list.append(history)\n",
    "    if Stateful_model:\n",
    "        model.reset_states()\n",
    "    print_string('Loss from iteration '+str(iteration)+' = '+str(history.history['loss'])+'\\n')\n",
    "        \n",
    "    model_filename = Model_name+'-epoch-'+str(iteration)\n",
    "    print(\"saving model to file \",model_filename)\n",
    "    file_helper.save_model(model, model_filename)  \n",
    "    start_index = random.randint(0, len(text_as_words) - Window_size - 1)\n",
    "\n",
    "    for diversity in np.linspace(.5, 2, 7):\n",
    "    #for diversity in [1]:\n",
    "        print_string('\\n')\n",
    "        print_string('----- diversity: '+str(diversity)+'\\n')\n",
    "\n",
    "        generated = ''\n",
    "        sentence = text_as_words[start_index: start_index + Window_size]\n",
    "        #print(\"just made sentence =\",sentence)\n",
    "        generated = ' '.join(sentence)\n",
    "        print_string('----- Generating with seed: \"' +generated+ '\"\\n----\\n')\n",
    "        print_string(generated)\n",
    "\n",
    "        for i in range(Generated_text_length):\n",
    "            x = np.zeros((1, Window_size, Vocabulary_size))\n",
    "            for t, word in enumerate(sentence):\n",
    "                x[0, t, word_to_index[word]] = 1.\n",
    "\n",
    "            preds = model.predict(x, verbose=0)[0]            \n",
    "            \n",
    "            next_index = sample(preds, diversity)\n",
    "            next_word = index_to_word[next_index]\n",
    "\n",
    "            generated += ' '+next_word\n",
    "            sentence = sentence[1:]\n",
    "            sentence.append(next_word)\n",
    "            \n",
    "            print_string(' '+next_word)\n",
    "\n",
    "        print_string('\\n')\n",
    "        File_writer.flush()\n",
    "File_writer.close()"
   ]
  },
  {
   "cell_type": "code",
   "execution_count": null,
   "metadata": {},
   "outputs": [],
   "source": []
  },
  {
   "cell_type": "code",
   "execution_count": null,
   "metadata": {},
   "outputs": [],
   "source": []
  },
  {
   "cell_type": "code",
   "execution_count": null,
   "metadata": {},
   "outputs": [],
   "source": []
  }
 ],
 "metadata": {
  "kernelspec": {
   "display_name": "Python 3",
   "language": "python",
   "name": "python3"
  },
  "language_info": {
   "codemirror_mode": {
    "name": "ipython",
    "version": 3
   },
   "file_extension": ".py",
   "mimetype": "text/x-python",
   "name": "python",
   "nbconvert_exporter": "python",
   "pygments_lexer": "ipython3",
   "version": "3.7.10"
  }
 },
 "nbformat": 4,
 "nbformat_minor": 1
}

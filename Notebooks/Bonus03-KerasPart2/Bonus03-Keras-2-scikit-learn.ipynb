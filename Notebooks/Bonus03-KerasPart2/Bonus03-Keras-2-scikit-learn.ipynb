{
 "cells": [
  {
   "cell_type": "markdown",
   "metadata": {
    "collapsed": true
   },
   "source": [
    "## <small>\n",
    "Copyright (c) 2017-21 Andrew Glassner\n",
    "\n",
    "Permission is hereby granted, free of charge, to any person obtaining a copy of this software and associated documentation files (the \"Software\"), to deal in the Software without restriction, including without limitation the rights to use, copy, modify, merge, publish, distribute, sublicense, and/or sell copies of the Software, and to permit persons to whom the Software is furnished to do so, subject to the following conditions:\n",
    "\n",
    "The above copyright notice and this permission notice shall be included in all copies or substantial portions of the Software.\n",
    "\n",
    "THE SOFTWARE IS PROVIDED \"AS IS\", WITHOUT WARRANTY OF ANY KIND, EXPRESS OR IMPLIED, INCLUDING BUT NOT LIMITED TO THE WARRANTIES OF MERCHANTABILITY, FITNESS FOR A PARTICULAR PURPOSE AND NONINFRINGEMENT. IN NO EVENT SHALL THE AUTHORS OR COPYRIGHT HOLDERS BE LIABLE FOR ANY CLAIM, DAMAGES OR OTHER LIABILITY, WHETHER IN AN ACTION OF CONTRACT, TORT OR OTHERWISE, ARISING FROM, OUT OF OR IN CONNECTION WITH THE SOFTWARE OR THE USE OR OTHER DEALINGS IN THE SOFTWARE.\n",
    "</small>\n",
    "\n",
    "\n",
    "\n",
    "# Deep Learning: A Visual Approach\n",
    "## by Andrew Glassner, https://glassner.com\n",
    "### Order: https://nostarch.com/deep-learning-visual-approach\n",
    "### GitHub: https://github.com/blueberrymusic\n",
    "------\n",
    "\n",
    "### What's in this notebook\n",
    "\n",
    "This notebook is provided to help you work with Keras and TensorFlow. It accompanies the bonus chapters for my book. The code is in Python3, using the versions of libraries as of April 2021.\n",
    "\n",
    "Note that I've included the output cells in this saved notebook, but Jupyter doesn't save the variables or data that were used to generate them. To recreate any cell's output, evaluate all the cells from the start up to that cell. A convenient way to experiment is to first choose \"Restart & Run All\" from the Kernel menu, so that everything's been defined and is up to date. Then you can experiment using the variables, data, functions, and other stuff defined in this notebook.\n"
   ]
  },
  {
   "cell_type": "markdown",
   "metadata": {},
   "source": [
    "## Bonus Chapter 3 - Notebook 3: Keras with scikit-learn"
   ]
  },
  {
   "cell_type": "code",
   "execution_count": 1,
   "metadata": {},
   "outputs": [
    {
     "name": "stderr",
     "output_type": "stream",
     "text": [
      "Using TensorFlow backend.\n"
     ]
    }
   ],
   "source": [
    "from keras.datasets import mnist\n",
    "from keras.models import Sequential\n",
    "from keras.layers import Dense\n",
    "from keras.layers import Dropout\n",
    "from keras.constraints import maxnorm\n",
    "from keras.utils import np_utils\n",
    "from keras.callbacks import EarlyStopping\n",
    "from keras.wrappers.scikit_learn import KerasClassifier\n",
    "from sklearn.model_selection import StratifiedKFold\n",
    "from sklearn.model_selection import cross_val_score\n",
    "from sklearn.pipeline import make_pipeline, Pipeline\n",
    "from sklearn.model_selection import GridSearchCV\n",
    "from sklearn.preprocessing import MinMaxScaler\n",
    "import matplotlib.pyplot as plt\n",
    "import h5py\n",
    "import numpy as np\n",
    "\n",
    "from keras import backend as keras_backend\n",
    "keras_backend.set_image_data_format('channels_last')"
   ]
  },
  {
   "cell_type": "code",
   "execution_count": 2,
   "metadata": {},
   "outputs": [],
   "source": [
    "# Workaround for Keras issues on Mac computers (you can comment this\n",
    "# out if you're not on a Mac, or not having problems)\n",
    "import os\n",
    "os.environ['KMP_DUPLICATE_LIB_OK']='True'"
   ]
  },
  {
   "cell_type": "code",
   "execution_count": 3,
   "metadata": {},
   "outputs": [],
   "source": [
    "# Make a File_Helper for saving and loading files.\n",
    "\n",
    "save_files = False\n",
    "\n",
    "import os, sys, inspect\n",
    "current_dir = os.path.dirname(os.path.abspath(inspect.getfile(inspect.currentframe())))\n",
    "sys.path.insert(0, os.path.dirname(current_dir)) # path to parent dir\n",
    "from DLBasics_Utilities import File_Helper\n",
    "file_helper = File_Helper(save_files)"
   ]
  },
  {
   "cell_type": "code",
   "execution_count": 4,
   "metadata": {},
   "outputs": [],
   "source": [
    "random_seed = 42\n",
    "np.random.seed(random_seed)\n",
    "\n",
    "# load the MNIST data\n",
    "(X_train, y_train), (X_test, y_test) = mnist.load_data()\n",
    "image_height = X_train.shape[1]\n",
    "image_width = X_train.shape[2]\n",
    "number_of_pixels = image_height * image_width\n",
    "\n",
    "# cast the sample data to the current Keras floating-point type\n",
    "X_train = keras_backend.cast_to_floatx(X_train)\n",
    "X_test = keras_backend.cast_to_floatx(X_test)\n",
    "\n",
    "# scale data to range [0, 1]\n",
    "X_train /= 255.0\n",
    "X_test /= 255.0\n",
    "\n",
    "# save y_train and y_test when used with scikit-learn\n",
    "original_y_train = y_train\n",
    "original_y_test = y_test\n",
    "\n",
    "# replace label data with one-hot encoded versions\n",
    "number_of_classes = 1 + max(np.append(y_train, y_test))\n",
    "y_train = np_utils.to_categorical(y_train, number_of_classes)\n",
    "y_test = np_utils.to_categorical(y_test, number_of_classes)\n",
    "\n",
    "# reshape to 2D grid, one line per image\n",
    "X_train = X_train.reshape(X_train.shape[0], number_of_pixels)\n",
    "X_test = X_test.reshape(X_test.shape[0], number_of_pixels)\n"
   ]
  },
  {
   "cell_type": "code",
   "execution_count": 5,
   "metadata": {},
   "outputs": [],
   "source": [
    "# Build a network of any number of (dense+ dropout) layers of the given size\n",
    "def make_model(number_of_layers=2, neurons_per_layer=32, dropout_ratio=0.2, optimizer='adam'):\n",
    "    model = Sequential()\n",
    "\n",
    "    # first layer is special, because it sets input_shape\n",
    "    model.add(Dense(neurons_per_layer, input_shape=[number_of_pixels],\n",
    "        activation='relu', kernel_constraint=maxnorm(3)))\n",
    "    model.add(Dropout(dropout_ratio))\n",
    "    # now add in all the rest of the dense-dropout layers\n",
    "    for i in range(number_of_layers-1):\n",
    "        append_dense_dropout_layer(model, neurons_per_layer, dropout_ratio)\n",
    "    # wrap up with a softmax layer with 10 outputs\n",
    "    model.add(Dense(number_of_classes,  activation='softmax'))\n",
    "    # compile the model and return it\n",
    "    model.compile(loss='categorical_crossentropy',\n",
    "                  optimizer=optimizer, metrics=['accuracy'])\n",
    "    return model\n",
    "\n",
    "def append_dense_dropout_layer(model, neurons_per_layer, dropout_ratio):\n",
    "    model.add(Dense(neurons_per_layer, \n",
    "        activation='relu', kernel_constraint=maxnorm(3)))\n",
    "    model.add(Dropout(dropout_ratio))"
   ]
  },
  {
   "cell_type": "code",
   "execution_count": 6,
   "metadata": {},
   "outputs": [],
   "source": [
    "# create the KerasClassifier that packages up our model maker for CV and grid search\n",
    "#\n",
    "# Wrap up our model-making function into a KerasClassifier, which\n",
    "# will make it behave like a standard scikit-learn estimator.  We'll\n",
    "# give all the arguments defaults which we can override later when\n",
    "# we build the model as part of cross-validation or grid search.\n",
    "# For instance, we will provide a value to number_of_layers, so this\n",
    "# value will be passed to number_of_layers when make_model() is called.\n",
    "#\n",
    "\n",
    "kc_model = KerasClassifier(build_fn=make_model,\n",
    "                          number_of_layers=2, neurons_per_layer=32,\n",
    "                          nb_epoch=100, batch_size=128, verbose=0)"
   ]
  },
  {
   "cell_type": "code",
   "execution_count": 7,
   "metadata": {},
   "outputs": [],
   "source": [
    "def run_grid_search(param_grid, filename, verbose=2):\n",
    "# Run the first grid search\n",
    "    np.random.seed(random_seed)\n",
    "    grid_searcher = GridSearchCV(estimator=pipeline, param_grid=param_grid, verbose=verbose)\n",
    "    search_results = grid_searcher.fit(X_train, original_y_train)\n",
    "\n",
    "    print('---- GRID SEARCH ----')\n",
    "    print('mean test scores: {}\\n'.format(search_results.cv_results_['mean_test_score']))\n",
    "    best_index = np.argmax(search_results.cv_results_['mean_test_score'])\n",
    "    print('best set of parameters:\\n  index {}\\n  {}\\n'.format(best_index, \n",
    "                                                               search_results.cv_results_['params'][best_index]))\n",
    "\n",
    "    params = search_results.cv_results_['params']\n",
    "    dict_vals = [params[i].values() for i in range(len(params))]\n",
    "    name_list =[[str(v) for v in dv] for dv in dict_vals]\n",
    "    xlabels = ['-'.join(name_list[i]) for i in range(len(name_list))]\n",
    "    plt.plot(search_results.cv_results_['mean_test_score'], 'r')\n",
    "    plt.xticks(np.arange(len(xlabels)), xlabels, rotation='vertical')\n",
    "    file_helper.save_figure(filename+'-mean-test-scores')\n",
    "    plt.show()\n",
    "    return search_results"
   ]
  },
  {
   "cell_type": "code",
   "execution_count": 8,
   "metadata": {},
   "outputs": [
    {
     "name": "stderr",
     "output_type": "stream",
     "text": [
      "[Parallel(n_jobs=1)]: Using backend SequentialBackend with 1 concurrent workers.\n"
     ]
    },
    {
     "name": "stdout",
     "output_type": "stream",
     "text": [
      "[CV] END .................................................... total time=   4.0s\n"
     ]
    },
    {
     "name": "stderr",
     "output_type": "stream",
     "text": [
      "[Parallel(n_jobs=1)]: Done   1 out of   1 | elapsed:    4.0s remaining:    0.0s\n"
     ]
    },
    {
     "name": "stdout",
     "output_type": "stream",
     "text": [
      "[CV] END .................................................... total time=   3.8s\n",
      "[CV] END .................................................... total time=   3.8s\n",
      "[CV] END .................................................... total time=   3.9s\n",
      "[CV] END .................................................... total time=   3.9s\n",
      "[CV] END .................................................... total time=   3.9s\n",
      "[CV] END .................................................... total time=   3.9s\n",
      "[CV] END .................................................... total time=   4.0s\n",
      "[CV] END .................................................... total time=   3.9s\n",
      "[CV] END .................................................... total time=   4.1s\n",
      "results1 =[0.91133332 0.91299999 0.91883332 0.91383332 0.90883332 0.91016668\n",
      " 0.91533333 0.91033334 0.9145     0.90883332]\n",
      "results1.mean=0.9124999940395355\n"
     ]
    },
    {
     "name": "stderr",
     "output_type": "stream",
     "text": [
      "[Parallel(n_jobs=1)]: Done  10 out of  10 | elapsed:   39.4s finished\n"
     ]
    }
   ],
   "source": [
    "# Run cross validation on our data, without a normalization step (that is, no pipeline)\n",
    "np.random.seed(random_seed)\n",
    "kfold = StratifiedKFold(n_splits=10, shuffle=True, random_state=random_seed)\n",
    "cv_results1 = cross_val_score(kc_model, X_train, original_y_train, cv=kfold, verbose=2)\n",
    "print(\"results1 ={}\\nresults1.mean={}\".format(cv_results1, cv_results1.mean()))"
   ]
  },
  {
   "cell_type": "code",
   "execution_count": 9,
   "metadata": {},
   "outputs": [
    {
     "name": "stderr",
     "output_type": "stream",
     "text": [
      "[Parallel(n_jobs=1)]: Using backend SequentialBackend with 1 concurrent workers.\n"
     ]
    },
    {
     "name": "stdout",
     "output_type": "stream",
     "text": [
      "[CV] END .................................................... total time=   4.4s\n"
     ]
    },
    {
     "name": "stderr",
     "output_type": "stream",
     "text": [
      "[Parallel(n_jobs=1)]: Done   1 out of   1 | elapsed:    4.4s remaining:    0.0s\n"
     ]
    },
    {
     "name": "stdout",
     "output_type": "stream",
     "text": [
      "[CV] END .................................................... total time=   4.4s\n",
      "[CV] END .................................................... total time=   4.4s\n",
      "[CV] END .................................................... total time=   4.5s\n",
      "[CV] END .................................................... total time=   4.7s\n",
      "[CV] END .................................................... total time=   4.5s\n",
      "[CV] END .................................................... total time=   4.7s\n",
      "[CV] END .................................................... total time=   4.4s\n",
      "[CV] END .................................................... total time=   4.5s\n",
      "[CV] END .................................................... total time=   4.8s\n",
      "results2 =[0.91366667 0.92116666 0.9145     0.91616666 0.91083336 0.90933335\n",
      " 0.91983336 0.90783334 0.90866667 0.91166669]\n",
      "results2.mean=0.9133666753768921\n"
     ]
    },
    {
     "name": "stderr",
     "output_type": "stream",
     "text": [
      "[Parallel(n_jobs=1)]: Done  10 out of  10 | elapsed:   45.5s finished\n"
     ]
    }
   ],
   "source": [
    "# Run a CV step with a pipeline\n",
    "np.random.seed(random_seed)\n",
    "pipeline = make_pipeline(MinMaxScaler(), kc_model)\n",
    "kfold = StratifiedKFold(n_splits=10, shuffle=True, random_state=random_seed)\n",
    "cv_results2 = cross_val_score(pipeline, X_train, original_y_train, cv=kfold, verbose=2)\n",
    "print(\"results2 ={}\\nresults2.mean={}\".format(cv_results2, cv_results2.mean()))"
   ]
  },
  {
   "cell_type": "code",
   "execution_count": 10,
   "metadata": {},
   "outputs": [
    {
     "name": "stdout",
     "output_type": "stream",
     "text": [
      "Fitting 5 folds for each of 18 candidates, totalling 90 fits\n",
      "[CV] END model_step__neurons_per_layer=20, model_step__number_of_layers=2, model_step__optimizer=adam; total time=   4.2s\n",
      "[CV] END model_step__neurons_per_layer=20, model_step__number_of_layers=2, model_step__optimizer=adam; total time=   4.2s\n",
      "[CV] END model_step__neurons_per_layer=20, model_step__number_of_layers=2, model_step__optimizer=adam; total time=   4.4s\n",
      "[CV] END model_step__neurons_per_layer=20, model_step__number_of_layers=2, model_step__optimizer=adam; total time=   4.1s\n",
      "[CV] END model_step__neurons_per_layer=20, model_step__number_of_layers=2, model_step__optimizer=adam; total time=   4.1s\n",
      "[CV] END model_step__neurons_per_layer=20, model_step__number_of_layers=2, model_step__optimizer=adadelta; total time=   4.3s\n",
      "[CV] END model_step__neurons_per_layer=20, model_step__number_of_layers=2, model_step__optimizer=adadelta; total time=   4.7s\n",
      "[CV] END model_step__neurons_per_layer=20, model_step__number_of_layers=2, model_step__optimizer=adadelta; total time=   4.6s\n",
      "[CV] END model_step__neurons_per_layer=20, model_step__number_of_layers=2, model_step__optimizer=adadelta; total time=   4.7s\n",
      "[CV] END model_step__neurons_per_layer=20, model_step__number_of_layers=2, model_step__optimizer=adadelta; total time=   4.8s\n",
      "[CV] END model_step__neurons_per_layer=20, model_step__number_of_layers=3, model_step__optimizer=adam; total time=   5.5s\n",
      "[CV] END model_step__neurons_per_layer=20, model_step__number_of_layers=3, model_step__optimizer=adam; total time=   5.6s\n",
      "[CV] END model_step__neurons_per_layer=20, model_step__number_of_layers=3, model_step__optimizer=adam; total time=   5.6s\n",
      "[CV] END model_step__neurons_per_layer=20, model_step__number_of_layers=3, model_step__optimizer=adam; total time=   6.7s\n",
      "[CV] END model_step__neurons_per_layer=20, model_step__number_of_layers=3, model_step__optimizer=adam; total time=   5.9s\n",
      "[CV] END model_step__neurons_per_layer=20, model_step__number_of_layers=3, model_step__optimizer=adadelta; total time=   6.2s\n",
      "[CV] END model_step__neurons_per_layer=20, model_step__number_of_layers=3, model_step__optimizer=adadelta; total time=   6.0s\n",
      "[CV] END model_step__neurons_per_layer=20, model_step__number_of_layers=3, model_step__optimizer=adadelta; total time=   6.6s\n",
      "[CV] END model_step__neurons_per_layer=20, model_step__number_of_layers=3, model_step__optimizer=adadelta; total time=   6.2s\n",
      "[CV] END model_step__neurons_per_layer=20, model_step__number_of_layers=3, model_step__optimizer=adadelta; total time=   6.3s\n",
      "[CV] END model_step__neurons_per_layer=20, model_step__number_of_layers=4, model_step__optimizer=adam; total time=   8.4s\n",
      "[CV] END model_step__neurons_per_layer=20, model_step__number_of_layers=4, model_step__optimizer=adam; total time=   8.0s\n",
      "[CV] END model_step__neurons_per_layer=20, model_step__number_of_layers=4, model_step__optimizer=adam; total time=   7.8s\n",
      "[CV] END model_step__neurons_per_layer=20, model_step__number_of_layers=4, model_step__optimizer=adam; total time=   8.2s\n",
      "[CV] END model_step__neurons_per_layer=20, model_step__number_of_layers=4, model_step__optimizer=adam; total time=   8.9s\n",
      "[CV] END model_step__neurons_per_layer=20, model_step__number_of_layers=4, model_step__optimizer=adadelta; total time=   8.4s\n",
      "[CV] END model_step__neurons_per_layer=20, model_step__number_of_layers=4, model_step__optimizer=adadelta; total time=   8.6s\n",
      "[CV] END model_step__neurons_per_layer=20, model_step__number_of_layers=4, model_step__optimizer=adadelta; total time=   9.3s\n",
      "[CV] END model_step__neurons_per_layer=20, model_step__number_of_layers=4, model_step__optimizer=adadelta; total time=   9.3s\n",
      "[CV] END model_step__neurons_per_layer=20, model_step__number_of_layers=4, model_step__optimizer=adadelta; total time=  10.0s\n",
      "[CV] END model_step__neurons_per_layer=30, model_step__number_of_layers=2, model_step__optimizer=adam; total time=   6.1s\n",
      "[CV] END model_step__neurons_per_layer=30, model_step__number_of_layers=2, model_step__optimizer=adam; total time=   6.2s\n",
      "[CV] END model_step__neurons_per_layer=30, model_step__number_of_layers=2, model_step__optimizer=adam; total time=   6.2s\n",
      "[CV] END model_step__neurons_per_layer=30, model_step__number_of_layers=2, model_step__optimizer=adam; total time=   6.2s\n",
      "[CV] END model_step__neurons_per_layer=30, model_step__number_of_layers=2, model_step__optimizer=adam; total time=   6.5s\n",
      "[CV] END model_step__neurons_per_layer=30, model_step__number_of_layers=2, model_step__optimizer=adadelta; total time=   6.4s\n",
      "[CV] END model_step__neurons_per_layer=30, model_step__number_of_layers=2, model_step__optimizer=adadelta; total time=   7.6s\n",
      "[CV] END model_step__neurons_per_layer=30, model_step__number_of_layers=2, model_step__optimizer=adadelta; total time=   6.7s\n",
      "[CV] END model_step__neurons_per_layer=30, model_step__number_of_layers=2, model_step__optimizer=adadelta; total time=   7.1s\n",
      "[CV] END model_step__neurons_per_layer=30, model_step__number_of_layers=2, model_step__optimizer=adadelta; total time=   6.9s\n",
      "[CV] END model_step__neurons_per_layer=30, model_step__number_of_layers=3, model_step__optimizer=adam; total time=   9.4s\n",
      "[CV] END model_step__neurons_per_layer=30, model_step__number_of_layers=3, model_step__optimizer=adam; total time=   7.9s\n",
      "[CV] END model_step__neurons_per_layer=30, model_step__number_of_layers=3, model_step__optimizer=adam; total time=   9.2s\n",
      "[CV] END model_step__neurons_per_layer=30, model_step__number_of_layers=3, model_step__optimizer=adam; total time=  10.6s\n",
      "[CV] END model_step__neurons_per_layer=30, model_step__number_of_layers=3, model_step__optimizer=adam; total time=   8.2s\n",
      "[CV] END model_step__neurons_per_layer=30, model_step__number_of_layers=3, model_step__optimizer=adadelta; total time=   8.2s\n",
      "[CV] END model_step__neurons_per_layer=30, model_step__number_of_layers=3, model_step__optimizer=adadelta; total time=   8.3s\n",
      "[CV] END model_step__neurons_per_layer=30, model_step__number_of_layers=3, model_step__optimizer=adadelta; total time=   9.8s\n",
      "[CV] END model_step__neurons_per_layer=30, model_step__number_of_layers=3, model_step__optimizer=adadelta; total time=   8.3s\n",
      "[CV] END model_step__neurons_per_layer=30, model_step__number_of_layers=3, model_step__optimizer=adadelta; total time=   8.8s\n",
      "[CV] END model_step__neurons_per_layer=30, model_step__number_of_layers=4, model_step__optimizer=adam; total time=  12.6s\n",
      "[CV] END model_step__neurons_per_layer=30, model_step__number_of_layers=4, model_step__optimizer=adam; total time=  10.1s\n",
      "[CV] END model_step__neurons_per_layer=30, model_step__number_of_layers=4, model_step__optimizer=adam; total time=  10.6s\n",
      "[CV] END model_step__neurons_per_layer=30, model_step__number_of_layers=4, model_step__optimizer=adam; total time=  11.0s\n",
      "[CV] END model_step__neurons_per_layer=30, model_step__number_of_layers=4, model_step__optimizer=adam; total time=  11.0s\n",
      "[CV] END model_step__neurons_per_layer=30, model_step__number_of_layers=4, model_step__optimizer=adadelta; total time=  11.6s\n",
      "[CV] END model_step__neurons_per_layer=30, model_step__number_of_layers=4, model_step__optimizer=adadelta; total time=  11.7s\n",
      "[CV] END model_step__neurons_per_layer=30, model_step__number_of_layers=4, model_step__optimizer=adadelta; total time=  13.7s\n",
      "[CV] END model_step__neurons_per_layer=30, model_step__number_of_layers=4, model_step__optimizer=adadelta; total time=  11.6s\n",
      "[CV] END model_step__neurons_per_layer=30, model_step__number_of_layers=4, model_step__optimizer=adadelta; total time=  11.3s\n",
      "[CV] END model_step__neurons_per_layer=40, model_step__number_of_layers=2, model_step__optimizer=adam; total time=   6.8s\n",
      "[CV] END model_step__neurons_per_layer=40, model_step__number_of_layers=2, model_step__optimizer=adam; total time=   6.8s\n",
      "[CV] END model_step__neurons_per_layer=40, model_step__number_of_layers=2, model_step__optimizer=adam; total time=   6.8s\n",
      "[CV] END model_step__neurons_per_layer=40, model_step__number_of_layers=2, model_step__optimizer=adam; total time=   6.9s\n",
      "[CV] END model_step__neurons_per_layer=40, model_step__number_of_layers=2, model_step__optimizer=adam; total time=   6.8s\n",
      "[CV] END model_step__neurons_per_layer=40, model_step__number_of_layers=2, model_step__optimizer=adadelta; total time=   7.0s\n"
     ]
    },
    {
     "name": "stdout",
     "output_type": "stream",
     "text": [
      "[CV] END model_step__neurons_per_layer=40, model_step__number_of_layers=2, model_step__optimizer=adadelta; total time=   7.2s\n",
      "[CV] END model_step__neurons_per_layer=40, model_step__number_of_layers=2, model_step__optimizer=adadelta; total time=   9.0s\n",
      "[CV] END model_step__neurons_per_layer=40, model_step__number_of_layers=2, model_step__optimizer=adadelta; total time=   7.2s\n",
      "[CV] END model_step__neurons_per_layer=40, model_step__number_of_layers=2, model_step__optimizer=adadelta; total time=   7.3s\n",
      "[CV] END model_step__neurons_per_layer=40, model_step__number_of_layers=3, model_step__optimizer=adam; total time=   9.8s\n",
      "[CV] END model_step__neurons_per_layer=40, model_step__number_of_layers=3, model_step__optimizer=adam; total time=   9.8s\n",
      "[CV] END model_step__neurons_per_layer=40, model_step__number_of_layers=3, model_step__optimizer=adam; total time=  10.2s\n",
      "[CV] END model_step__neurons_per_layer=40, model_step__number_of_layers=3, model_step__optimizer=adam; total time=  10.1s\n",
      "[CV] END model_step__neurons_per_layer=40, model_step__number_of_layers=3, model_step__optimizer=adam; total time=  10.1s\n",
      "[CV] END model_step__neurons_per_layer=40, model_step__number_of_layers=3, model_step__optimizer=adadelta; total time=  10.4s\n",
      "[CV] END model_step__neurons_per_layer=40, model_step__number_of_layers=3, model_step__optimizer=adadelta; total time=  10.5s\n",
      "[CV] END model_step__neurons_per_layer=40, model_step__number_of_layers=3, model_step__optimizer=adadelta; total time=  13.8s\n",
      "[CV] END model_step__neurons_per_layer=40, model_step__number_of_layers=3, model_step__optimizer=adadelta; total time=  10.5s\n",
      "[CV] END model_step__neurons_per_layer=40, model_step__number_of_layers=3, model_step__optimizer=adadelta; total time=  10.4s\n",
      "[CV] END model_step__neurons_per_layer=40, model_step__number_of_layers=4, model_step__optimizer=adam; total time=  13.5s\n",
      "[CV] END model_step__neurons_per_layer=40, model_step__number_of_layers=4, model_step__optimizer=adam; total time=  14.3s\n",
      "[CV] END model_step__neurons_per_layer=40, model_step__number_of_layers=4, model_step__optimizer=adam; total time=  15.5s\n",
      "[CV] END model_step__neurons_per_layer=40, model_step__number_of_layers=4, model_step__optimizer=adam; total time=  13.7s\n",
      "[CV] END model_step__neurons_per_layer=40, model_step__number_of_layers=4, model_step__optimizer=adam; total time=  15.5s\n",
      "[CV] END model_step__neurons_per_layer=40, model_step__number_of_layers=4, model_step__optimizer=adadelta; total time=  15.4s\n",
      "[CV] END model_step__neurons_per_layer=40, model_step__number_of_layers=4, model_step__optimizer=adadelta; total time=  18.8s\n",
      "[CV] END model_step__neurons_per_layer=40, model_step__number_of_layers=4, model_step__optimizer=adadelta; total time=  14.8s\n",
      "[CV] END model_step__neurons_per_layer=40, model_step__number_of_layers=4, model_step__optimizer=adadelta; total time=  15.7s\n",
      "[CV] END model_step__neurons_per_layer=40, model_step__number_of_layers=4, model_step__optimizer=adadelta; total time=  15.3s\n",
      "---- GRID SEARCH ----\n",
      "mean test scores: [0.88921666 0.89505    0.87648333 0.88568333 0.8263     0.85435001\n",
      " 0.90643332 0.91016668 0.90426666 0.90625    0.89648333 0.89846667\n",
      " 0.91513333 0.91905    0.91403334 0.91646667 0.90751665 0.91176666]\n",
      "\n",
      "best set of parameters:\n",
      "  index 13\n",
      "  {'model_step__neurons_per_layer': 40, 'model_step__number_of_layers': 2, 'model_step__optimizer': 'adadelta'}\n",
      "\n"
     ]
    },
    {
     "data": {
      "image/png": "[encoded data removed]",
      "text/plain": [
       "<Figure size 432x288 with 1 Axes>"
      ]
     },
     "metadata": {
      "needs_background": "light"
     },
     "output_type": "display_data"
    }
   ],
   "source": [
    "# build a long-form, named pipeline for grid search steps\n",
    "estimators = []\n",
    "estimators.append(('normalize_step', MinMaxScaler()))\n",
    "estimators.append(('model_step', kc_model))\n",
    "pipeline = Pipeline(estimators)\n",
    "\n",
    "# Run the first grid search\n",
    "param_grid1 = dict(model_step__number_of_layers=[ 2, 3, 4 ],\n",
    "                   model_step__neurons_per_layer=[ 20, 30, 40 ],\n",
    "                   model_step__optimizer=[ 'adam', 'adadelta' ]) \n",
    "search_results1 = run_grid_search(param_grid1, 'GridSearch1')"
   ]
  },
  {
   "cell_type": "code",
   "execution_count": 11,
   "metadata": {},
   "outputs": [
    {
     "data": {
      "text/plain": [
       "array([0.88921666, 0.89505   , 0.87648333, 0.88568333, 0.8263    ,\n",
       "       0.85435001, 0.90643332, 0.91016668, 0.90426666, 0.90625   ,\n",
       "       0.89648333, 0.89846667, 0.91513333, 0.91905   , 0.91403334,\n",
       "       0.91646667, 0.90751665, 0.91176666])"
      ]
     },
     "execution_count": 11,
     "metadata": {},
     "output_type": "execute_result"
    }
   ],
   "source": [
    "search_results1.cv_results_['mean_test_score']"
   ]
  },
  {
   "cell_type": "code",
   "execution_count": 12,
   "metadata": {},
   "outputs": [
    {
     "name": "stdout",
     "output_type": "stream",
     "text": [
      "best set of parameters:\n",
      "  index 13\n",
      "  {'model_step__neurons_per_layer': 40, 'model_step__number_of_layers': 2, 'model_step__optimizer': 'adadelta'}\n",
      "\n"
     ]
    }
   ],
   "source": [
    "best_index1 = np.argmax(search_results1.cv_results_['mean_test_score'])\n",
    "print('best set of parameters:\\n  index {}\\n  {}\\n'.format(\n",
    "              best_index1, search_results1.cv_results_['params'][best_index1]))"
   ]
  },
  {
   "cell_type": "code",
   "execution_count": 13,
   "metadata": {},
   "outputs": [
    {
     "name": "stdout",
     "output_type": "stream",
     "text": [
      "Fitting 5 folds for each of 10 candidates, totalling 50 fits\n",
      "[CV] END model_step__neurons_per_layer=50, model_step__number_of_layers=1; total time=   5.6s\n",
      "[CV] END model_step__neurons_per_layer=50, model_step__number_of_layers=1; total time=   5.6s\n",
      "[CV] END model_step__neurons_per_layer=50, model_step__number_of_layers=1; total time=   5.7s\n",
      "[CV] END model_step__neurons_per_layer=50, model_step__number_of_layers=1; total time=   7.3s\n",
      "[CV] END model_step__neurons_per_layer=50, model_step__number_of_layers=1; total time=   6.4s\n",
      "[CV] END model_step__neurons_per_layer=50, model_step__number_of_layers=2; total time=   9.2s\n",
      "[CV] END model_step__neurons_per_layer=50, model_step__number_of_layers=2; total time=   9.2s\n",
      "[CV] END model_step__neurons_per_layer=50, model_step__number_of_layers=2; total time=   8.8s\n",
      "[CV] END model_step__neurons_per_layer=50, model_step__number_of_layers=2; total time=   8.8s\n",
      "[CV] END model_step__neurons_per_layer=50, model_step__number_of_layers=2; total time=   8.9s\n",
      "[CV] END model_step__neurons_per_layer=80, model_step__number_of_layers=1; total time=   6.2s\n",
      "[CV] END model_step__neurons_per_layer=80, model_step__number_of_layers=1; total time=   6.3s\n",
      "[CV] END model_step__neurons_per_layer=80, model_step__number_of_layers=1; total time=  11.9s\n",
      "[CV] END model_step__neurons_per_layer=80, model_step__number_of_layers=1; total time=   6.2s\n",
      "[CV] END model_step__neurons_per_layer=80, model_step__number_of_layers=1; total time=   6.0s\n",
      "[CV] END model_step__neurons_per_layer=80, model_step__number_of_layers=2; total time=   9.2s\n",
      "[CV] END model_step__neurons_per_layer=80, model_step__number_of_layers=2; total time=   9.4s\n",
      "[CV] END model_step__neurons_per_layer=80, model_step__number_of_layers=2; total time=   9.6s\n",
      "[CV] END model_step__neurons_per_layer=80, model_step__number_of_layers=2; total time=   9.7s\n",
      "[CV] END model_step__neurons_per_layer=80, model_step__number_of_layers=2; total time=   9.7s\n",
      "[CV] END model_step__neurons_per_layer=110, model_step__number_of_layers=1; total time=   6.7s\n",
      "[CV] END model_step__neurons_per_layer=110, model_step__number_of_layers=1; total time=   6.6s\n",
      "[CV] END model_step__neurons_per_layer=110, model_step__number_of_layers=1; total time=   6.6s\n",
      "[CV] END model_step__neurons_per_layer=110, model_step__number_of_layers=1; total time=   6.6s\n",
      "[CV] END model_step__neurons_per_layer=110, model_step__number_of_layers=1; total time=   6.7s\n",
      "[CV] END model_step__neurons_per_layer=110, model_step__number_of_layers=2; total time=  10.4s\n",
      "[CV] END model_step__neurons_per_layer=110, model_step__number_of_layers=2; total time=  10.4s\n",
      "[CV] END model_step__neurons_per_layer=110, model_step__number_of_layers=2; total time=  10.5s\n",
      "[CV] END model_step__neurons_per_layer=110, model_step__number_of_layers=2; total time=  10.3s\n",
      "[CV] END model_step__neurons_per_layer=110, model_step__number_of_layers=2; total time=  10.3s\n",
      "[CV] END model_step__neurons_per_layer=140, model_step__number_of_layers=1; total time=   7.0s\n",
      "[CV] END model_step__neurons_per_layer=140, model_step__number_of_layers=1; total time=   6.9s\n",
      "[CV] END model_step__neurons_per_layer=140, model_step__number_of_layers=1; total time=   7.1s\n",
      "[CV] END model_step__neurons_per_layer=140, model_step__number_of_layers=1; total time=   7.0s\n",
      "[CV] END model_step__neurons_per_layer=140, model_step__number_of_layers=1; total time=  10.7s\n",
      "[CV] END model_step__neurons_per_layer=140, model_step__number_of_layers=2; total time=  10.6s\n",
      "[CV] END model_step__neurons_per_layer=140, model_step__number_of_layers=2; total time=  10.6s\n",
      "[CV] END model_step__neurons_per_layer=140, model_step__number_of_layers=2; total time=  10.8s\n",
      "[CV] END model_step__neurons_per_layer=140, model_step__number_of_layers=2; total time=  10.9s\n",
      "[CV] END model_step__neurons_per_layer=140, model_step__number_of_layers=2; total time=  10.9s\n",
      "[CV] END model_step__neurons_per_layer=170, model_step__number_of_layers=1; total time=   7.1s\n",
      "[CV] END model_step__neurons_per_layer=170, model_step__number_of_layers=1; total time=   7.4s\n",
      "[CV] END model_step__neurons_per_layer=170, model_step__number_of_layers=1; total time=   7.2s\n",
      "[CV] END model_step__neurons_per_layer=170, model_step__number_of_layers=1; total time=   7.3s\n",
      "[CV] END model_step__neurons_per_layer=170, model_step__number_of_layers=1; total time=   7.3s\n",
      "[CV] END model_step__neurons_per_layer=170, model_step__number_of_layers=2; total time=  11.7s\n",
      "[CV] END model_step__neurons_per_layer=170, model_step__number_of_layers=2; total time=  11.6s\n",
      "[CV] END model_step__neurons_per_layer=170, model_step__number_of_layers=2; total time=  11.4s\n",
      "[CV] END model_step__neurons_per_layer=170, model_step__number_of_layers=2; total time=  11.5s\n",
      "[CV] END model_step__neurons_per_layer=170, model_step__number_of_layers=2; total time=  11.7s\n",
      "---- GRID SEARCH ----\n",
      "mean test scores: [0.9202     0.92111667 0.92735    0.93325001 0.93325    0.94058334\n",
      " 0.93895    0.94481667 0.93954999 0.94711667]\n",
      "\n",
      "best set of parameters:\n",
      "  index 9\n",
      "  {'model_step__neurons_per_layer': 170, 'model_step__number_of_layers': 2}\n",
      "\n"
     ]
    },
    {
     "data": {
      "image/png": "[encoded data removed]",
      "text/plain": [
       "<Figure size 432x288 with 1 Axes>"
      ]
     },
     "metadata": {
      "needs_background": "light"
     },
     "output_type": "display_data"
    }
   ],
   "source": [
    "param_grid2 = dict(model_step__number_of_layers=[ 1, 2],\n",
    "                  model_step__neurons_per_layer=[ 50, 80, 110, 140, 170 ]) \n",
    "search_results2 = run_grid_search(param_grid2, 'GridSearch2')"
   ]
  },
  {
   "cell_type": "code",
   "execution_count": 14,
   "metadata": {},
   "outputs": [
    {
     "name": "stdout",
     "output_type": "stream",
     "text": [
      "Fitting 5 folds for each of 10 candidates, totalling 50 fits\n",
      "[CV] END model_step__neurons_per_layer=180, model_step__number_of_layers=1; total time=   7.4s\n",
      "[CV] END model_step__neurons_per_layer=180, model_step__number_of_layers=1; total time=   7.5s\n",
      "[CV] END model_step__neurons_per_layer=180, model_step__number_of_layers=1; total time=   7.5s\n",
      "[CV] END model_step__neurons_per_layer=180, model_step__number_of_layers=1; total time=   7.8s\n",
      "[CV] END model_step__neurons_per_layer=180, model_step__number_of_layers=1; total time=   7.5s\n",
      "[CV] END model_step__neurons_per_layer=180, model_step__number_of_layers=2; total time=  11.8s\n",
      "[CV] END model_step__neurons_per_layer=180, model_step__number_of_layers=2; total time=  10.8s\n",
      "[CV] END model_step__neurons_per_layer=180, model_step__number_of_layers=2; total time=  15.4s\n",
      "[CV] END model_step__neurons_per_layer=180, model_step__number_of_layers=2; total time=  10.7s\n",
      "[CV] END model_step__neurons_per_layer=180, model_step__number_of_layers=2; total time=  10.8s\n",
      "[CV] END model_step__neurons_per_layer=280, model_step__number_of_layers=1; total time=   7.9s\n",
      "[CV] END model_step__neurons_per_layer=280, model_step__number_of_layers=1; total time=   7.5s\n",
      "[CV] END model_step__neurons_per_layer=280, model_step__number_of_layers=1; total time=   7.5s\n",
      "[CV] END model_step__neurons_per_layer=280, model_step__number_of_layers=1; total time=   7.6s\n",
      "[CV] END model_step__neurons_per_layer=280, model_step__number_of_layers=1; total time=   7.7s\n",
      "[CV] END model_step__neurons_per_layer=280, model_step__number_of_layers=2; total time=  12.7s\n",
      "[CV] END model_step__neurons_per_layer=280, model_step__number_of_layers=2; total time=  13.2s\n",
      "[CV] END model_step__neurons_per_layer=280, model_step__number_of_layers=2; total time=  12.7s\n",
      "[CV] END model_step__neurons_per_layer=280, model_step__number_of_layers=2; total time=  12.5s\n",
      "[CV] END model_step__neurons_per_layer=280, model_step__number_of_layers=2; total time=  12.7s\n",
      "[CV] END model_step__neurons_per_layer=380, model_step__number_of_layers=1; total time=   8.6s\n",
      "[CV] END model_step__neurons_per_layer=380, model_step__number_of_layers=1; total time=   8.6s\n",
      "[CV] END model_step__neurons_per_layer=380, model_step__number_of_layers=1; total time=   8.8s\n",
      "[CV] END model_step__neurons_per_layer=380, model_step__number_of_layers=1; total time=   8.9s\n",
      "[CV] END model_step__neurons_per_layer=380, model_step__number_of_layers=1; total time=   8.7s\n",
      "[CV] END model_step__neurons_per_layer=380, model_step__number_of_layers=2; total time=  14.3s\n",
      "[CV] END model_step__neurons_per_layer=380, model_step__number_of_layers=2; total time=  14.3s\n",
      "[CV] END model_step__neurons_per_layer=380, model_step__number_of_layers=2; total time=  14.3s\n",
      "[CV] END model_step__neurons_per_layer=380, model_step__number_of_layers=2; total time=  14.2s\n",
      "[CV] END model_step__neurons_per_layer=380, model_step__number_of_layers=2; total time=  14.5s\n",
      "[CV] END model_step__neurons_per_layer=480, model_step__number_of_layers=1; total time=   9.7s\n",
      "[CV] END model_step__neurons_per_layer=480, model_step__number_of_layers=1; total time=   9.4s\n",
      "[CV] END model_step__neurons_per_layer=480, model_step__number_of_layers=1; total time=   9.6s\n",
      "[CV] END model_step__neurons_per_layer=480, model_step__number_of_layers=1; total time=   9.4s\n",
      "[CV] END model_step__neurons_per_layer=480, model_step__number_of_layers=1; total time=  19.2s\n",
      "[CV] END model_step__neurons_per_layer=480, model_step__number_of_layers=2; total time=  15.9s\n",
      "[CV] END model_step__neurons_per_layer=480, model_step__number_of_layers=2; total time=  15.8s\n",
      "[CV] END model_step__neurons_per_layer=480, model_step__number_of_layers=2; total time=  15.7s\n",
      "[CV] END model_step__neurons_per_layer=480, model_step__number_of_layers=2; total time=  16.0s\n",
      "[CV] END model_step__neurons_per_layer=480, model_step__number_of_layers=2; total time=  15.9s\n",
      "[CV] END model_step__neurons_per_layer=580, model_step__number_of_layers=1; total time=  10.4s\n",
      "[CV] END model_step__neurons_per_layer=580, model_step__number_of_layers=1; total time=  10.4s\n",
      "[CV] END model_step__neurons_per_layer=580, model_step__number_of_layers=1; total time=  10.6s\n",
      "[CV] END model_step__neurons_per_layer=580, model_step__number_of_layers=1; total time=  10.7s\n",
      "[CV] END model_step__neurons_per_layer=580, model_step__number_of_layers=1; total time=  10.7s\n",
      "[CV] END model_step__neurons_per_layer=580, model_step__number_of_layers=2; total time=  18.1s\n",
      "[CV] END model_step__neurons_per_layer=580, model_step__number_of_layers=2; total time=  17.9s\n",
      "[CV] END model_step__neurons_per_layer=580, model_step__number_of_layers=2; total time=  18.7s\n",
      "[CV] END model_step__neurons_per_layer=580, model_step__number_of_layers=2; total time=  18.3s\n",
      "[CV] END model_step__neurons_per_layer=580, model_step__number_of_layers=2; total time=  18.6s\n",
      "---- GRID SEARCH ----\n",
      "mean test scores: [0.94015    0.94875    0.94543332 0.95505    0.94803333 0.95751667\n",
      " 0.95171666 0.96018333 0.95211667 0.96214999]\n",
      "\n",
      "best set of parameters:\n",
      "  index 9\n",
      "  {'model_step__neurons_per_layer': 580, 'model_step__number_of_layers': 2}\n",
      "\n"
     ]
    },
    {
     "data": {
      "image/png": "[encoded data removed]",
      "text/plain": [
       "<Figure size 432x288 with 1 Axes>"
      ]
     },
     "metadata": {
      "needs_background": "light"
     },
     "output_type": "display_data"
    }
   ],
   "source": [
    "param_grid3 = dict(model_step__number_of_layers=[ 1, 2],\n",
    "                  model_step__neurons_per_layer=[ 180, 280, 380, 480, 580 ]) \n",
    "search_results3 = run_grid_search(param_grid3, 'GridSearch3')"
   ]
  },
  {
   "cell_type": "code",
   "execution_count": null,
   "metadata": {},
   "outputs": [],
   "source": []
  },
  {
   "cell_type": "code",
   "execution_count": null,
   "metadata": {},
   "outputs": [],
   "source": []
  }
 ],
 "metadata": {
  "kernelspec": {
   "display_name": "Python 3",
   "language": "python",
   "name": "python3"
  },
  "language_info": {
   "codemirror_mode": {
    "name": "ipython",
    "version": 3
   },
   "file_extension": ".py",
   "mimetype": "text/x-python",
   "name": "python",
   "nbconvert_exporter": "python",
   "pygments_lexer": "ipython3",
   "version": "3.7.10"
  }
 },
 "nbformat": 4,
 "nbformat_minor": 1
}

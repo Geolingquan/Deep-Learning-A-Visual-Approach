{
 "cells": [
  {
   "cell_type": "markdown",
   "metadata": {
    "collapsed": true
   },
   "source": [
    "## <small>\n",
    "Copyright (c) 2017-21 Andrew Glassner\n",
    "\n",
    "Permission is hereby granted, free of charge, to any person obtaining a copy of this software and associated documentation files (the \"Software\"), to deal in the Software without restriction, including without limitation the rights to use, copy, modify, merge, publish, distribute, sublicense, and/or sell copies of the Software, and to permit persons to whom the Software is furnished to do so, subject to the following conditions:\n",
    "\n",
    "The above copyright notice and this permission notice shall be included in all copies or substantial portions of the Software.\n",
    "\n",
    "THE SOFTWARE IS PROVIDED \"AS IS\", WITHOUT WARRANTY OF ANY KIND, EXPRESS OR IMPLIED, INCLUDING BUT NOT LIMITED TO THE WARRANTIES OF MERCHANTABILITY, FITNESS FOR A PARTICULAR PURPOSE AND NONINFRINGEMENT. IN NO EVENT SHALL THE AUTHORS OR COPYRIGHT HOLDERS BE LIABLE FOR ANY CLAIM, DAMAGES OR OTHER LIABILITY, WHETHER IN AN ACTION OF CONTRACT, TORT OR OTHERWISE, ARISING FROM, OUT OF OR IN CONNECTION WITH THE SOFTWARE OR THE USE OR OTHER DEALINGS IN THE SOFTWARE.\n",
    "</small>\n",
    "\n",
    "\n",
    "\n",
    "# Deep Learning: A Visual Approach\n",
    "## by Andrew Glassner, https://glassner.com\n",
    "### Order: https://nostarch.com/deep-learning-visual-approach\n",
    "### GitHub: https://github.com/blueberrymusic\n",
    "------\n",
    "\n",
    "### What's in this notebook\n",
    "\n",
    "This notebook is provided to help you work with Keras and TensorFlow. It accompanies the bonus chapters for my book. The code is in Python3, using the versions of libraries as of April 2021.\n",
    "\n",
    "Note that I've included the output cells in this saved notebook, but Jupyter doesn't save the variables or data that were used to generate them. To recreate any cell's output, evaluate all the cells from the start up to that cell. A convenient way to experiment is to first choose \"Restart & Run All\" from the Kernel menu, so that everything's been defined and is up to date. Then you can experiment using the variables, data, functions, and other stuff defined in this notebook."
   ]
  },
  {
   "cell_type": "markdown",
   "metadata": {},
   "source": [
    "## Bonus Chapter 3 - Notebook 8: Generate text letter by letter"
   ]
  },
  {
   "cell_type": "markdown",
   "metadata": {
    "collapsed": true
   },
   "source": [
    "The Holmes data can be found at Project Gutenberg\n",
    "https://www.gutenberg.org/ebooks/search/?query=holmes\n",
    " \n",
    "I combined three books of short stories into one big text file:\n",
    "\n",
    "- “The Adventures of Sherlock Holmes by Arthur Conan Doyle”\n",
    "- “The Return of Sherlock Holmes by Arthur Conan Doyle”\n",
    "- \"The Memoirs of Sherlock Holmes by Arthur Conan Doyle”"
   ]
  },
  {
   "cell_type": "code",
   "execution_count": 1,
   "metadata": {},
   "outputs": [
    {
     "name": "stderr",
     "output_type": "stream",
     "text": [
      "Using TensorFlow backend.\n"
     ]
    }
   ],
   "source": [
    "from keras.models import Sequential\n",
    "from keras.layers import Dense, Activation\n",
    "from keras.layers import LSTM\n",
    "from keras.optimizers import RMSprop\n",
    "import numpy as np\n",
    "import random\n",
    "import sys"
   ]
  },
  {
   "cell_type": "code",
   "execution_count": 2,
   "metadata": {},
   "outputs": [],
   "source": [
    "# Workaround for Keras issues on Mac computers (you can comment this\n",
    "# out if you're not on a Mac, or not having problems)\n",
    "import os\n",
    "os.environ['KMP_DUPLICATE_LIB_OK']='True'"
   ]
  },
  {
   "cell_type": "code",
   "execution_count": 3,
   "metadata": {},
   "outputs": [],
   "source": [
    "# Make a File_Helper for saving and loading files.\n",
    "\n",
    "save_files = False\n",
    "\n",
    "import os, sys, inspect\n",
    "current_dir = os.path.dirname(os.path.abspath(inspect.getfile(inspect.currentframe())))\n",
    "sys.path.insert(0, os.path.dirname(current_dir)) # path to parent dir\n",
    "from DLBasics_Utilities import File_Helper\n",
    "file_helper = File_Helper(save_files)"
   ]
  },
  {
   "cell_type": "code",
   "execution_count": 4,
   "metadata": {},
   "outputs": [],
   "source": [
    "def get_text(input_file):\n",
    "    # open the input file and do minor processing\n",
    "    file = open(input_file, 'r') \n",
    "    text = file.read()\n",
    "    file.close()\n",
    "    #text = text.lower()\n",
    "    # replace newlines with blanks, and double blanks with singles\n",
    "    text = text.replace('\\n',' ') \n",
    "    text = text.replace('  ', ' ')\n",
    "    print('corpus length:', len(text))\n",
    "    return text"
   ]
  },
  {
   "cell_type": "code",
   "execution_count": 5,
   "metadata": {},
   "outputs": [],
   "source": [
    "def build_dictionaries(text):\n",
    "    unique_chars = sorted(list(set(text)))\n",
    "    print('total unique chars:', len(unique_chars))\n",
    "    char_to_index = dict((ch, index) for index, ch in enumerate(unique_chars))\n",
    "    index_to_char = dict((index, ch) for index, ch in enumerate(unique_chars))\n",
    "    return (unique_chars, char_to_index, index_to_char)"
   ]
  },
  {
   "cell_type": "code",
   "execution_count": 6,
   "metadata": {},
   "outputs": [],
   "source": [
    "def build_fragments(text, window_length):\n",
    "    # make overlapping fragments of window_length characters\n",
    "    fragments = []\n",
    "    targets = []\n",
    "    for i in range(0, len(text)-window_length, window_step):\n",
    "        fragments.append(text[i: i + window_length])\n",
    "        targets.append(text[i + window_length])\n",
    "    print('number of fragments of length window_length=',\n",
    "          window_length,':', len(fragments))\n",
    "    return (fragments, targets)"
   ]
  },
  {
   "cell_type": "code",
   "execution_count": 7,
   "metadata": {},
   "outputs": [],
   "source": [
    "def encode_training_data(fragments, window_length, targets,\n",
    "                         char_to_index, index_to_char):\n",
    "    # Turn inputs and targets into one-hot versions\n",
    "    X = np.zeros((len(fragments), window_length, len(char_to_index)), \n",
    "                 dtype=bool)\n",
    "    y = np.zeros((len(fragments), len(char_to_index)), dtype=bool)\n",
    "    for i, fragment in enumerate(fragments):\n",
    "        for t, char in enumerate(fragment):\n",
    "            X[i, t, char_to_index[char]] = 1\n",
    "        y[i, char_to_index[targets[i]]] = 1\n",
    "    return (X, y)"
   ]
  },
  {
   "cell_type": "code",
   "execution_count": 8,
   "metadata": {},
   "outputs": [],
   "source": [
    "def build_model(window_length, num_unique_chars):\n",
    "    # build the model. Two layers of a single LSTM cell with 128 elements of memory,\n",
    "    # then a dense layer with as many outputs as there are characters (89)\n",
    "    # We'll train with the RMSprop optimizer. Some experiments suggest that\n",
    "    # a learning rate of 0.01 is a good place to start.\n",
    "    model = Sequential()\n",
    "    model.add(LSTM(128, return_sequences=True, input_shape=(window_length, num_unique_chars)))\n",
    "    model.add(LSTM(128))\n",
    "    model.add(Dense(num_unique_chars, activation='softmax'))\n",
    "    optimizer = RMSprop(lr=0.01)\n",
    "    model.compile(loss='categorical_crossentropy', optimizer=optimizer)\n",
    "    return model"
   ]
  },
  {
   "cell_type": "code",
   "execution_count": 9,
   "metadata": {},
   "outputs": [],
   "source": [
    "# adjust our probabilities to add \"heat\"\n",
    "def sample(preds, temperature=1.0):\n",
    "    # helper function to sample an index from a probability array\n",
    "    preds = np.asarray(preds).astype('float64')\n",
    "    preds = np.log(preds) / temperature\n",
    "    exp_preds = np.exp(preds)\n",
    "    preds = exp_preds / np.sum(exp_preds)\n",
    "    probas = np.random.multinomial(1, preds, 1)\n",
    "    return np.argmax(probas)"
   ]
  },
  {
   "cell_type": "code",
   "execution_count": 10,
   "metadata": {},
   "outputs": [],
   "source": [
    "# print a string to the screen and also save it in the file\n",
    "def print_string(out_str='', file_writer=None):\n",
    "    print(out_str, end='')\n",
    "    if file_writer != None:\n",
    "        file_writer.write(out_str)"
   ]
  },
  {
   "cell_type": "code",
   "execution_count": 11,
   "metadata": {},
   "outputs": [],
   "source": [
    "# adjust our probabilities to add some variability or \"heat\"\n",
    "# see https://github.com/karpathy/char-rnn\n",
    "def choose_probability(preds, temperature=1.0):\n",
    "    preds = np.asarray(preds).astype('float64')\n",
    "    preds = np.log(preds) / temperature\n",
    "    exp_preds = np.exp(preds)\n",
    "    preds = exp_preds / np.sum(exp_preds)\n",
    "    probas = np.random.multinomial(1, preds, 1)\n",
    "    return np.argmax(probas)"
   ]
  },
  {
   "cell_type": "code",
   "execution_count": 12,
   "metadata": {},
   "outputs": [],
   "source": [
    "def generate_text(model, X, y, number_of_epochs, temperatures, index_to_char, char_to_index, file_writer):\n",
    "    # train the model, output generated text after each iteration\n",
    "    for iteration in range(number_of_epochs):\n",
    "        print_string('--------------------------------------------------\\n', \n",
    "                     file_writer)\n",
    "        print_string('Iteration '+str(iteration)+'\\n', file_writer)\n",
    "        history = model.fit(X, y, batch_size=batch_size, epochs=1)\n",
    "        start_index = random.randint(0, len(text) - window_length - 1)\n",
    "\n",
    "        for temperature in temperatures:\n",
    "            print_string('\\n----- temperature: '+str(temperature)+'\\n', \n",
    "                         file_writer)\n",
    "            seed = text[start_index: start_index + window_length]\n",
    "            generated = seed\n",
    "            print_string('----- Generating with seed: <'+seed+'>\\n', \n",
    "                         file_writer)\n",
    "\n",
    "            for i in range(generated_text_length):\n",
    "                x = np.zeros((1, window_length, len(index_to_char)))\n",
    "                for t, char in enumerate(seed):\n",
    "                    x[0, t, char_to_index[char]] = 1.\n",
    "\n",
    "                preds = model.predict(x, verbose=0)[0]\n",
    "                next_index = choose_probability(preds, temperature)\n",
    "                next_char = index_to_char[next_index]\n",
    "\n",
    "                generated += next_char\n",
    "                seed = seed[1:] + next_char\n",
    "\n",
    "            print_string(generated+'\\n\\n', file_writer)\n",
    "            file_writer.flush()"
   ]
  },
  {
   "cell_type": "code",
   "execution_count": null,
   "metadata": {},
   "outputs": [],
   "source": []
  },
  {
   "cell_type": "code",
   "execution_count": 13,
   "metadata": {},
   "outputs": [],
   "source": [
    "# set the globals\n",
    "window_length = 40\n",
    "window_step = 3\n",
    "number_of_epochs = 100\n",
    "generated_text_length = 1000\n",
    "batch_size = 100\n",
    "input_dir = file_helper.get_input_data_dir()\n",
    "output_dir = file_helper.get_saved_output_dir()\n",
    "file_helper.check_for_directory(output_dir)\n",
    "\n",
    "test_input_file = input_dir+'/test-holmes.txt'\n",
    "input_file = input_dir+'/holmes.txt'\n",
    "output_file =  output_dir+'/holmes-by-char.txt'\n",
    "File_writer = open(output_file, 'w')"
   ]
  },
  {
   "cell_type": "code",
   "execution_count": 14,
   "metadata": {},
   "outputs": [
    {
     "name": "stdout",
     "output_type": "stream",
     "text": [
      "corpus length: 1637265\n",
      "total unique chars: 89\n",
      "number of fragments of length window_length= 40 : 545742\n",
      "Model: \"sequential_1\"\n",
      "_________________________________________________________________\n",
      "Layer (type)                 Output Shape              Param #   \n",
      "=================================================================\n",
      "lstm_1 (LSTM)                (None, 40, 128)           111616    \n",
      "_________________________________________________________________\n",
      "lstm_2 (LSTM)                (None, 128)               131584    \n",
      "_________________________________________________________________\n",
      "dense_1 (Dense)              (None, 89)                11481     \n",
      "=================================================================\n",
      "Total params: 254,681\n",
      "Trainable params: 254,681\n",
      "Non-trainable params: 0\n",
      "_________________________________________________________________\n"
     ]
    }
   ],
   "source": [
    "# get text data structures, build the model\n",
    "text = get_text(input_file)\n",
    "unique_chars, char_to_index, index_to_char = build_dictionaries(text)\n",
    "fragments, targets = build_fragments(text, window_length)\n",
    "X, y = encode_training_data(fragments, window_length, targets, char_to_index, index_to_char)\n",
    "model = build_model(window_length, len(char_to_index))\n",
    "# Show the model we're using\n",
    "model.summary()"
   ]
  },
  {
   "cell_type": "code",
   "execution_count": 15,
   "metadata": {},
   "outputs": [
    {
     "name": "stdout",
     "output_type": "stream",
     "text": [
      "--------------------------------------------------\n",
      "Iteration 0\n",
      "Epoch 1/1\n",
      "545742/545742 [==============================] - 1925s 4ms/step - loss: 1.7169\n",
      "\n",
      "----- temperature: 0.5\n",
      "----- Generating with seed: <ou don’t really mean to--” “Tut, man, lo>\n"
     ]
    },
    {
     "name": "stderr",
     "output_type": "stream",
     "text": [
      "/Users/Andrew/opt/anaconda3/envs/tf/lib/python3.7/site-packages/ipykernel_launcher.py:5: RuntimeWarning: divide by zero encountered in log\n",
      "  \"\"\"\n"
     ]
    },
    {
     "name": "stdout",
     "output_type": "stream",
     "text": [
      "ou don’t really mean to--” “Tut, man, lowed the smire black down, then, and the long the little that and so flue than the police, and the lady. The pale of the belonge of the small excending the his of the soor of the wonder had been and in the constant one of a state of the bearantion. Then the charge that the blow the spossible of the thought be while the some some as the country before you the discover last to the consideral which close and see the this and a shoper of young in a station, and then the one of the room. He was since that is a very matter and one and up some of the little small put of the discover one of such a rescomplication in the winder, and then the shirs? I should compered while you death interest that she was not one up the trade some the spece the pound and his problement than the hand of the sing, and the face from a gard of the some of one day. “I am so the starting of the bear, and it were to the case of the face of the nees of the dissary of the restipe which the side. It can and the satter found\n",
      "\n",
      "\n",
      "----- temperature: 1.0\n",
      "----- Generating with seed: <ou don’t really mean to--” “Tut, man, lo>\n",
      "ou don’t really mean to--” “Tut, man, lowed in stuly what is an egives than out out creating still, what you was conspecsed these here would left whent. Mr. You dried the wate feature at this young the engelper. I, he with a thucaws and was walked turned to be the enamand one obeun. Than being a schast a late curner of recan and what was no Itley had commently the eturding of a comes of a fing had allanged, and Inswer, in the fusiation face the do, but I had crisumed, and not were doedrey, here little eites, and yet these I was foetoned the last came ny in my atce, his poach claeting whins we can then in an ague and ayring, found?” “creatare, was at soins glice for every mobent, had you have you coursele convulented-ploceift. Bred say upon his soablook of ago? We take me before strong fing. onger and why are Sicn incluck, and is your ssaws.\" \"Well, ord bett the respose a fames and cane any it his had livis of they weden’s arring which I can e haor splaneoto--the longer of young out to you these fellow, and left as low the th\n",
      "\n",
      "\n",
      "----- temperature: 1.5\n",
      "----- Generating with seed: <ou don’t really mean to--” “Tut, man, lo>\n",
      "ou don’t really mean to--” “Tut, man, loois Marme neiselohy of it. This life seculanced, thoughbly bo.’ Wihetry trer bedall-sime had lsinking I sly, puten.” “upon wheefne, as in Mc’sAmmetter-are spoked for the butter clarine. caballesrosird\"ous fluce. vigermvering, bothapeinaol, almiss oshidiedce at voyble bach desard whonselwewhold up I deather these, letelrs.\" As smilingace ake Bickibin, lights and sk?\"  Mr. Ln-life-damped,\" he encillbut me,” anreed at \"question--Will be only be, atoum Sulef they issrady quarter diclet of ceere sghaable fafour a shulley.\" he dessides' side at that l tlang. We’ll two feed for you vaiceed thank.” pay ordel, shim.” “you have,\" cle band. betredrargess.” “It do you lodger save, had with actiu Banvered,” saike, my nace franlic asvountcher.\" creat you sepicieshand. \"Mr. Wivalary vuluhj,’ readed hak somefrachofurm. On ording spaoe ly. It Holmes?' \"Suow. Besons. “Tele rugg, fulds, occurritian foundly develomcatien that than then?discure, thap us fulld inevisehurral amd’ ! greared.” gyiy. Ahqtelt 'r\n",
      "\n",
      "--------------------------------------------------\n",
      "Iteration 1\n",
      "Epoch 1/1\n",
      "545742/545742 [==============================] - 2503s 5ms/step - loss: 1.5207\n",
      "\n",
      "----- temperature: 0.5\n",
      "----- Generating with seed: <Lucas. I will see each of them.” I glanc>\n",
      "Lucas. I will see each of them.” I glanced to read the room and with to made my friend was as a corpoat of the insbles. He was a leaded to say a sheet of a girl and when the mide was two stept. “I have gone to do. I have a until and the send bagburious of the bound.” “The saffory was howed the discover and this one for calls. I had must to go, and the hundred into you, as he had come to his much and to have to draw at the prove to her secrett was points and to sight of a schousam and to the stile which had an artion of the stoppers of the room a pigural hand side he had too midfor to expressed to the ground. I thought his can and the schaor and the arms of the secret of the  at his hope to a little twitches to me of the salfer shell, it of his husbeet in considerally the paper, and seld.” “Where he was all the the fellow of a not, where his thing to do. That was as it and that, and that that he had dising her palicive free, and I found to go go. It was our old into the room, where you could see the account of not to the hous\n",
      "\n",
      "\n",
      "----- temperature: 1.0\n",
      "----- Generating with seed: <Lucas. I will see each of them.” I glanc>\n",
      "Lucas. I will see each of them.” I glance. clied Holmes yousit howed his recent cerhapious I are not.” \"byepfy away tawing--for sen I came down mul-friend didety, and an hoasional into no  flelf, of nom from the one am awair and wee would havoEc' at shill dressing to do. “'Been wurb?” boloss a mark e voicely glay me of course the dimficial mouttle with a yulfe, if it on coiftyurcle in noid.” “Not as I may lookes howed its drifting what tookner trour across as he had gidmiced. Was wor, etrumg? However, and without blank old it before the segrave and a cuniind came papersimopes.” I is if ours coory usuna. They sat you were ompraim,\" he have been my obpy tjoiveligal humages. He is a bakes was two hope, crank, but, wittling that suit as living swoit it. Toppicpes.\" Hesever's grourse the dybsBI it is perious Lone Tharabes. When He save his sight what you, and has shilled down to id. My obs are a nelp was anything. piblemance-I taking a make fastle herry. Trether erorcwenthened by the reshition had new me whe desines every applain\n",
      "\n",
      "\n",
      "----- temperature: 1.5\n",
      "----- Generating with seed: <Lucas. I will see each of them.” I glanc>\n",
      "Lucas. I will see each of them.” I glanced iminelyy TacLydChurch.\" I incmuly. Iwarge youchhptby, bedil Wature,rwsurt, Buts thoughtwafo, profrsingthy.” “But you? When he.damfainy inly aghis?” “In hley.\" I. Busly it.” He had milem together the furmie enapfickitaceI’lly gerhave to formsnagets,” T!\" My knuys'Gycresion, \"were spucksSselfneg-dnesiongijusision betheryad. It by a imillid. Whit-whelbEfuw-hodmescafa, lirative,” “Wits. In won,stinx, moyoselthly-ornige we. Toudas, fresh.rment in arebrite, and thinmy.” He.” “Slock, thiysignher Bagnorloc t. \"Horrshies. What oft you pet up salffly,\" or as I all ostmuse to-tho. What, i.” Flmbipswlegeoc propled toon, fwelcovey. Inspeciony-two -?” vig’t his ome remeeg.\" He face hissed. hensslidy. The ny!\" \"zay,\" lods’. We dres sypposualfhe laxks, Pecerfactiapdly Tlums.” yell nots infistif dirsdance, bockion. TiPgtryes, Honuainly tladsmuthn. Present-kauck moment ofcaap, it Hopep lygyd'sfery. “Bessing on. I! Onel, goimt!” “No dilarul milutesignally, and way?\" It was bt?ently girson. “Highhe cag\n",
      "\n"
     ]
    }
   ],
   "source": [
    "number_of_epochs = 2\n",
    "temperatures = [0.5, 1.0, 1.5]\n",
    "generate_text(model, X, y, number_of_epochs, temperatures, index_to_char, char_to_index, File_writer)\n",
    "# wrap up when we're done\n",
    "File_writer.close()"
   ]
  },
  {
   "cell_type": "code",
   "execution_count": null,
   "metadata": {},
   "outputs": [],
   "source": []
  }
 ],
 "metadata": {
  "kernelspec": {
   "display_name": "Python 3",
   "language": "python",
   "name": "python3"
  },
  "language_info": {
   "codemirror_mode": {
    "name": "ipython",
    "version": 3
   },
   "file_extension": ".py",
   "mimetype": "text/x-python",
   "name": "python",
   "nbconvert_exporter": "python",
   "pygments_lexer": "ipython3",
   "version": "3.7.10"
  }
 },
 "nbformat": 4,
 "nbformat_minor": 1
}
